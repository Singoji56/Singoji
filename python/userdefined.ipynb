{
 "cells": [
  {
   "cell_type": "code",
   "execution_count": 5,
   "metadata": {},
   "outputs": [
    {
     "data": {
      "text/plain": [
       "False"
      ]
     },
     "execution_count": 5,
     "metadata": {},
     "output_type": "execute_result"
    }
   ],
   "source": [
    "st='helloworld'\n",
    "st.isupper()\n"
   ]
  },
  {
   "cell_type": "code",
   "execution_count": 77,
   "metadata": {},
   "outputs": [
    {
     "data": {
      "text/plain": [
       "True"
      ]
     },
     "execution_count": 77,
     "metadata": {},
     "output_type": "execute_result"
    }
   ],
   "source": [
    "# isalpha\n",
    "st=\"helloworld\"\n",
    "def u_isalpha(coll):\n",
    "    for i in coll:\n",
    "        if not('a'<=i<='z' or 'A'<=i<='Z'):\n",
    "            return False\n",
    "    return True\n",
    "u_isalpha(st)"
   ]
  },
  {
   "cell_type": "code",
   "execution_count": 79,
   "metadata": {},
   "outputs": [
    {
     "data": {
      "text/plain": [
       "True"
      ]
     },
     "execution_count": 79,
     "metadata": {},
     "output_type": "execute_result"
    }
   ],
   "source": [
    "# isalnum\n",
    "st=\"123\"\n",
    "def u_isalnum(coll):\n",
    "    for i in coll:\n",
    "        if not('0'<=i<='9'):\n",
    "            return False\n",
    "    return True\n",
    "u_isalnum(st)"
   ]
  },
  {
   "cell_type": "code",
   "execution_count": 81,
   "metadata": {},
   "outputs": [
    {
     "data": {
      "text/plain": [
       "False"
      ]
     },
     "execution_count": 81,
     "metadata": {},
     "output_type": "execute_result"
    }
   ],
   "source": [
    "# isnumeric\n",
    "st=\"12kbuh3\"\n",
    "def u_isnumeric(coll):\n",
    "    for i in coll:\n",
    "        if not('0'<=i<='9'):\n",
    "            return False\n",
    "    return True\n",
    "u_isnumeric(st)"
   ]
  },
  {
   "cell_type": "code",
   "execution_count": 84,
   "metadata": {},
   "outputs": [
    {
     "data": {
      "text/plain": [
       "True"
      ]
     },
     "execution_count": 84,
     "metadata": {},
     "output_type": "execute_result"
    }
   ],
   "source": [
    "# isdigit\n",
    "st=\"123\"\n",
    "def u_isdigit(coll):\n",
    "    for i in coll:\n",
    "        if not('0'<=i<='9'):\n",
    "            return False\n",
    "    return True\n",
    "u_isdigit(st)"
   ]
  },
  {
   "cell_type": "code",
   "execution_count": 87,
   "metadata": {},
   "outputs": [
    {
     "data": {
      "text/plain": [
       "True"
      ]
     },
     "execution_count": 87,
     "metadata": {},
     "output_type": "execute_result"
    }
   ],
   "source": [
    "# isdecimal\n",
    "st=\"123\"\n",
    "def u_isdecimal(coll):\n",
    "    for i in coll:\n",
    "        if not('0'<=i<='9'):\n",
    "            return False\n",
    "    return True\n",
    "u_isdecimal(st)"
   ]
  },
  {
   "cell_type": "code",
   "execution_count": 144,
   "metadata": {},
   "outputs": [
    {
     "data": {
      "text/plain": [
       "'hello worlsfvhld121543e@#$aads'"
      ]
     },
     "execution_count": 144,
     "metadata": {},
     "output_type": "execute_result"
    }
   ],
   "source": [
    "# casefold\n",
    "st=\"heLLo wORLSFVHld121543e@#$aads\"\n",
    "st.casefold()"
   ]
  },
  {
   "cell_type": "code",
   "execution_count": null,
   "metadata": {},
   "outputs": [],
   "source": [
    "# st=\"HeLLo world121543e@#$aads\"\n",
    "st=\"ABCD\"\n",
    "def u_casefold(coll):\n",
    "    for i in coll:\n",
    "        if 'a'<=i<='z':\n",
    "            res=chr(ord(i)-32)\n",
    "        print(res)\n",
    "    #         return False\n",
    "    # return True\n",
    "u_casefold(st)\n",
    "\n",
    "#             res+=chr(ord(coll[i])-32)\n",
    "#             if 'A'<=coll[i]<='Z':\n",
    "#                 res+=chr(ord(coll[i])+32)\n",
    "#         else:\n",
    "#             res+=coll[i]\n",
    "#             return res\n",
    "# u_casefold(st)\n",
    "        "
   ]
  },
  {
   "cell_type": "code",
   "execution_count": 208,
   "metadata": {},
   "outputs": [
    {
     "data": {
      "text/plain": [
       "'helloworld2ry26r@hy'"
      ]
     },
     "execution_count": 208,
     "metadata": {},
     "output_type": "execute_result"
    }
   ],
   "source": [
    "# casefold\n",
    "st=\"helloWorLD2RY26R@HY\"\n",
    "#st=\"HELLO\"\n",
    "def u_casefold(coll):\n",
    "    res=''\n",
    "    for i in coll:\n",
    "        if 'A'<=i<='Z':\n",
    "            res+=chr(ord(i)+32)\n",
    "        else:\n",
    "            res+=i\n",
    "    return res\n",
    "u_casefold(st)"
   ]
  },
  {
   "cell_type": "code",
   "execution_count": 213,
   "metadata": {},
   "outputs": [
    {
     "data": {
      "text/plain": [
       "'HELLOWOEDLN'"
      ]
     },
     "execution_count": 213,
     "metadata": {},
     "output_type": "execute_result"
    }
   ],
   "source": [
    "# upper\n",
    "st=\"HELLOwoedln\"\n",
    "st.upper()\n"
   ]
  },
  {
   "cell_type": "code",
   "execution_count": 216,
   "metadata": {},
   "outputs": [
    {
     "data": {
      "text/plain": [
       "'HS51645GCDFWQCASVF@#$@WF'"
      ]
     },
     "execution_count": 216,
     "metadata": {},
     "output_type": "execute_result"
    }
   ],
   "source": [
    "#st=\"HEllo\"\n",
    "st=\"HS51645gcdfwqcasvf@#$@wf\"\n",
    "def u_upper(coll):\n",
    "    res=''\n",
    "    for i in coll:\n",
    "        if 'a'<=i<='z':\n",
    "            res+=chr(ord(i)-32)\n",
    "        else:\n",
    "            res+=i\n",
    "    return res\n",
    "u_upper(st)"
   ]
  },
  {
   "cell_type": "code",
   "execution_count": 218,
   "metadata": {},
   "outputs": [
    {
     "data": {
      "text/plain": [
       "'hs51645hgcadsa sxasvf@#$@wf'"
      ]
     },
     "execution_count": 218,
     "metadata": {},
     "output_type": "execute_result"
    }
   ],
   "source": [
    "# lower\n",
    "st=\"HS51645HGCADSA SXasvf@#$@wf\"\n",
    "def u_lower(coll):\n",
    "    res=''\n",
    "    for i in coll:\n",
    "        if 'A'<=i<='Z':\n",
    "            res+=chr(ord(i)+32)\n",
    "        else:\n",
    "            res+=i\n",
    "    return res\n",
    "u_lower(st)"
   ]
  },
  {
   "cell_type": "code",
   "execution_count": 219,
   "metadata": {},
   "outputs": [
    {
     "data": {
      "text/plain": [
       "'HVSDGAV254345#$!%Jkjasbh'"
      ]
     },
     "execution_count": 219,
     "metadata": {},
     "output_type": "execute_result"
    }
   ],
   "source": [
    "# swapcase\n",
    "st=\"hvsdgav254345#$!%jKJASBH\"\n",
    "st.swapcase()"
   ]
  },
  {
   "cell_type": "code",
   "execution_count": 4,
   "metadata": {},
   "outputs": [
    {
     "data": {
      "text/plain": [
       "'HVSDGAV254345#$!%Jkjasbh'"
      ]
     },
     "execution_count": 4,
     "metadata": {},
     "output_type": "execute_result"
    }
   ],
   "source": [
    "st=\"hvsdgav254345#$!%jKJASBH\"\n",
    "def u_swapcase(coll):\n",
    "    res=''\n",
    "    for i in coll:\n",
    "        if 'a'<=i<='z':\n",
    "            res+=chr(ord(i)-32)\n",
    "        elif 'A'<=i<='Z':\n",
    "            res+=chr(ord(i)+32)\n",
    "        else:\n",
    "            res+=i\n",
    "    return res\n",
    "u_swapcase(st)"
   ]
  },
  {
   "cell_type": "code",
   "execution_count": 234,
   "metadata": {},
   "outputs": [
    {
     "data": {
      "text/plain": [
       "True"
      ]
     },
     "execution_count": 234,
     "metadata": {},
     "output_type": "execute_result"
    }
   ],
   "source": [
    "# islower\n",
    "st=\"hello\"\n",
    "def u_islower(coll):\n",
    "    for i in coll:\n",
    "        if 'A'<=i<='Z':\n",
    "            return False\n",
    "    return True\n",
    "u_islower(st)"
   ]
  },
  {
   "cell_type": "code",
   "execution_count": null,
   "metadata": {},
   "outputs": [],
   "source": []
  }
 ],
 "metadata": {
  "kernelspec": {
   "display_name": "Python 3",
   "language": "python",
   "name": "python3"
  },
  "language_info": {
   "codemirror_mode": {
    "name": "ipython",
    "version": 3
   },
   "file_extension": ".py",
   "mimetype": "text/x-python",
   "name": "python",
   "nbconvert_exporter": "python",
   "pygments_lexer": "ipython3",
   "version": "3.11.4"
  },
  "orig_nbformat": 4
 },
 "nbformat": 4,
 "nbformat_minor": 2
}
