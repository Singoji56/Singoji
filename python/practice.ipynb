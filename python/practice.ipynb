{
 "cells": [
  {
   "cell_type": "code",
   "execution_count": 1,
   "metadata": {},
   "outputs": [
    {
     "name": "stdout",
     "output_type": "stream",
     "text": [
      "not a armstrong number\n",
      "not a armstrong number\n",
      "153 armstrong number\n"
     ]
    }
   ],
   "source": [
    "n=153\n",
    "st=str(n)\n",
    "le=len(st)\n",
    "armstrong=0\n",
    "for i in st:\n",
    "    first = int(i)\n",
    "    armstrong+= first**le\n",
    "    if armstrong == n:\n",
    "        print(n,\"armstrong number\")\n",
    "    else:\n",
    "        print(\"not a armstrong number\")\n"
   ]
  }
 ],
 "metadata": {
  "kernelspec": {
   "display_name": "Python 3",
   "language": "python",
   "name": "python3"
  },
  "language_info": {
   "codemirror_mode": {
    "name": "ipython",
    "version": 3
   },
   "file_extension": ".py",
   "mimetype": "text/x-python",
   "name": "python",
   "nbconvert_exporter": "python",
   "pygments_lexer": "ipython3",
   "version": "3.11.4"
  }
 },
 "nbformat": 4,
 "nbformat_minor": 2
}
