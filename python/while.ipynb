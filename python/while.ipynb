{
 "cells": [
  {
   "cell_type": "code",
   "execution_count": 2,
   "metadata": {},
   "outputs": [
    {
     "name": "stdout",
     "output_type": "stream",
     "text": [
      "5 haii\n",
      "4 haii\n",
      "3 haii\n",
      "2 haii\n",
      "1 haii\n"
     ]
    }
   ],
   "source": [
    "a=5\n",
    "while a:\n",
    "    print(a,'haii')\n",
    "    a-=1"
   ]
  },
  {
   "cell_type": "code",
   "execution_count": 7,
   "metadata": {},
   "outputs": [
    {
     "name": "stdout",
     "output_type": "stream",
     "text": [
      "0 haii\n",
      "1 haii\n",
      "2 haii\n",
      "3 haii\n",
      "4 haii\n"
     ]
    }
   ],
   "source": [
    "a=0\n",
    "while a<5:\n",
    "    print(a,'haii')\n",
    "    a+=1"
   ]
  },
  {
   "cell_type": "code",
   "execution_count": 12,
   "metadata": {},
   "outputs": [
    {
     "name": "stdout",
     "output_type": "stream",
     "text": [
      "2\n",
      "4\n",
      "6\n",
      "8\n",
      "10\n",
      "12\n",
      "14\n",
      "16\n",
      "18\n",
      "20\n",
      "22\n",
      "24\n",
      "26\n",
      "28\n",
      "30\n",
      "32\n",
      "34\n",
      "36\n",
      "38\n",
      "40\n",
      "42\n",
      "44\n",
      "46\n",
      "48\n"
     ]
    }
   ],
   "source": [
    "a=1\n",
    "b=50\n",
    "while a<b:\n",
    "    if a%2==0:\n",
    "        print(a)\n",
    "    a+=1"
   ]
  },
  {
   "cell_type": "code",
   "execution_count": 14,
   "metadata": {},
   "outputs": [
    {
     "name": "stdout",
     "output_type": "stream",
     "text": [
      "1234\n"
     ]
    }
   ],
   "source": [
    "a=12345\n",
    "print(a//10)\n"
   ]
  },
  {
   "cell_type": "code",
   "execution_count": 15,
   "metadata": {},
   "outputs": [
    {
     "name": "stdout",
     "output_type": "stream",
     "text": [
      "5\n"
     ]
    }
   ],
   "source": [
    "a=12345\n",
    "print(a%10)"
   ]
  },
  {
   "cell_type": "code",
   "execution_count": 16,
   "metadata": {},
   "outputs": [
    {
     "name": "stdout",
     "output_type": "stream",
     "text": [
      "4\n",
      "5\n",
      "9\n",
      "8\n",
      "1\n"
     ]
    }
   ],
   "source": [
    "# wap to extract each digit in given number\n",
    "n=18954\n",
    "while n:\n",
    "    ld=n%10 # extract the last digit\n",
    "    print(ld) # display the last digit\n",
    "    n=n//10 # eliminate last digit"
   ]
  },
  {
   "cell_type": "code",
   "execution_count": 20,
   "metadata": {},
   "outputs": [
    {
     "name": "stdout",
     "output_type": "stream",
     "text": [
      "4\n",
      "8\n"
     ]
    }
   ],
   "source": [
    "# wap to extract even digit in given number\n",
    "n=18954\n",
    "while n:\n",
    "    ld=n%10\n",
    "    if n%2==0:\n",
    "        print(ld)\n",
    "    n=n//10 \n"
   ]
  },
  {
   "cell_type": "code",
   "execution_count": 36,
   "metadata": {},
   "outputs": [
    {
     "name": "stdout",
     "output_type": "stream",
     "text": [
      "54321\n"
     ]
    }
   ],
   "source": [
    "# wap to reverse the given number without type casting\n",
    "n=12345\n",
    "f=0\n",
    "while n:\n",
    "    ld=n%10\n",
    "    f=(f*10)+ld\n",
    "    n=n//10\n",
    "print(f)"
   ]
  },
  {
   "cell_type": "code",
   "execution_count": 40,
   "metadata": {},
   "outputs": [
    {
     "name": "stdout",
     "output_type": "stream",
     "text": [
      "54321\n",
      "1\n",
      "2\n",
      "3\n",
      "4\n",
      "5\n"
     ]
    }
   ],
   "source": [
    "# wap to extract the each digit from given number from starting to ending (left to right) without typecasting\n",
    "n=12345\n",
    "f=0\n",
    "while n:\n",
    "    ld=n%10\n",
    "    f=(f*10)+ld\n",
    "    n=n//10\n",
    "print(f)\n",
    "n=f\n",
    "while n:\n",
    "    ld=n%10\n",
    "    print(ld)\n",
    "    n=n//10"
   ]
  },
  {
   "cell_type": "code",
   "execution_count": 3,
   "metadata": {},
   "outputs": [
    {
     "name": "stdout",
     "output_type": "stream",
     "text": [
      "not a paralindrome\n"
     ]
    }
   ],
   "source": [
    "# wap to check given number is paralindrome are not\n",
    "n=2021\n",
    "b=n\n",
    "f=0\n",
    "while n:\n",
    "    ld=n%10\n",
    "    f=(f*10)+ld\n",
    "    n=n//10\n",
    "if b==f:\n",
    "    print(\"paralindrome\")\n",
    "else:\n",
    "    print(\"not a paralindrome\")"
   ]
  },
  {
   "cell_type": "code",
   "execution_count": 49,
   "metadata": {},
   "outputs": [
    {
     "name": "stdout",
     "output_type": "stream",
     "text": [
      "6\n",
      "7\n",
      "8\n",
      "9\n",
      "10\n"
     ]
    }
   ],
   "source": [
    "# wap to print the values from m to n\n",
    "m= eval(input(\"enter the values:\"))\n",
    "n= eval(input(\"enter the values:\"))\n",
    "while m<=n:\n",
    "    print(m)\n",
    "    m+=1\n",
    "    # input m=6 and n=10"
   ]
  },
  {
   "cell_type": "code",
   "execution_count": 52,
   "metadata": {},
   "outputs": [
    {
     "name": "stdout",
     "output_type": "stream",
     "text": [
      "1\n",
      "2\n",
      "3\n",
      "6\n"
     ]
    }
   ],
   "source": [
    "# wap to print the factors in given numbers\n",
    "n=eval(input(\"enter the values:\"))\n",
    "s=1\n",
    "while s<=n:\n",
    "    if n%s==0:\n",
    "        print(s)\n",
    "    s+=1"
   ]
  },
  {
   "cell_type": "code",
   "execution_count": 59,
   "metadata": {},
   "outputs": [
    {
     "name": "stdout",
     "output_type": "stream",
     "text": [
      "12\n"
     ]
    }
   ],
   "source": [
    "#wap sum of factors in given number\n",
    "m= eval(input(\"enter the values:\"))\n",
    "s=1\n",
    "sum=0\n",
    "while s<=m:\n",
    "    if m%s==0:\n",
    "        sum=sum+s\n",
    "    s+=1\n",
    "print(sum)"
   ]
  },
  {
   "cell_type": "code",
   "execution_count": 12,
   "metadata": {},
   "outputs": [
    {
     "name": "stdout",
     "output_type": "stream",
     "text": [
      "perfect number\n"
     ]
    }
   ],
   "source": [
    "# wap to check the given number is perfect number is not\n",
    "s= eval(input(\"enter the values:\"))\n",
    "b=s\n",
    "i=1\n",
    "sum=0\n",
    "while i<s:\n",
    "    if s%i==0:\n",
    "        sum=sum+i\n",
    "    i+=1\n",
    "if sum==b:\n",
    "    print(\"perfect number\")\n",
    "else:\n",
    "    print(\"not a perfect number\")"
   ]
  },
  {
   "cell_type": "code",
   "execution_count": 67,
   "metadata": {},
   "outputs": [
    {
     "name": "stdout",
     "output_type": "stream",
     "text": [
      "24\n"
     ]
    }
   ],
   "source": [
    "# wap to product of numbers from 1 to nth value\n",
    "n= eval(input(\"enter the values:\"))\n",
    "m=1\n",
    "fact=1\n",
    "while m<=n:\n",
    "    fact=fact*m\n",
    "    m+=1\n",
    "print(fact)"
   ]
  },
  {
   "cell_type": "code",
   "execution_count": 44,
   "metadata": {},
   "outputs": [
    {
     "name": "stdout",
     "output_type": "stream",
     "text": [
      "strong\n"
     ]
    }
   ],
   "source": [
    "# wap to check the given number is strong or not\n",
    "#n= eval(input(\"enter the values:\"))\n",
    "n=145\n",
    "temp=n                          # THEORITICAL\n",
    "sum1=0                          #input ====145\n",
    "while n:                        #5*4*3*2*1======120\n",
    "    ld=n%10                     #4*3*2*1========24\n",
    "    fact=1                      #1*1============1\n",
    "    i=1                                   #     ----\n",
    "    while i<=ld:                              #  145\n",
    "        fact*=i\n",
    "        i+=1\n",
    "    sum1+=fact\n",
    "    n=n//10\n",
    "if temp==sum1:\n",
    "    print(\"strong\")\n",
    "else:\n",
    "    print(\"not a strong\")\n"
   ]
  },
  {
   "cell_type": "code",
   "execution_count": 2,
   "metadata": {},
   "outputs": [
    {
     "name": "stdout",
     "output_type": "stream",
     "text": [
      "9\n",
      "10\n"
     ]
    }
   ],
   "source": [
    "# wap to count the number of digits in given number\n",
    "s=543216556\n",
    "count=0\n",
    "while s:\n",
    "    ld=s%10\n",
    "    count+=1\n",
    "    s=s//10\n",
    "print(count)\n",
    "\n",
    "# METHOD 2\n",
    "s=5432165565\n",
    "count=0\n",
    "while s:\n",
    "    count+=1\n",
    "    s=s//10\n",
    "print(count)"
   ]
  },
  {
   "cell_type": "code",
   "execution_count": 3,
   "metadata": {},
   "outputs": [
    {
     "name": "stdout",
     "output_type": "stream",
     "text": [
      "153\n",
      "armstrong\n"
     ]
    }
   ],
   "source": [
    "# ARMSTRONG\n",
    "n=153\n",
    "temp=n\n",
    "res=n\n",
    "count=0\n",
    "while n:\n",
    "    count+=1\n",
    "    n=n//10\n",
    "#print(count)\n",
    "\n",
    "sum1=0\n",
    "while temp:\n",
    "    ld=temp%10\n",
    "    sum1+=ld**count\n",
    "    temp=temp//10\n",
    "print(sum1)\n",
    "if res==sum1:\n",
    "    print(\"armstrong\")\n",
    "else:\n",
    "    print(\"neil armstrong\")"
   ]
  },
  {
   "cell_type": "code",
   "execution_count": 16,
   "metadata": {},
   "outputs": [
    {
     "name": "stdout",
     "output_type": "stream",
     "text": [
      "prime number\n"
     ]
    }
   ],
   "source": [
    "# wap to check the given number is prime number or not\n",
    "# Method 1\n",
    "n=5\n",
    "a=1\n",
    "count=0\n",
    "while a<=n:\n",
    "    if n%a==0:\n",
    "        count+=1\n",
    "    a+=1\n",
    "if count==2:\n",
    "    print(\"prime number\")\n",
    "else:\n",
    "    print(\"not a prime number\")\n",
    "    \n"
   ]
  },
  {
   "cell_type": "code",
   "execution_count": 20,
   "metadata": {},
   "outputs": [
    {
     "name": "stdout",
     "output_type": "stream",
     "text": [
      "prime number\n"
     ]
    }
   ],
   "source": [
    "#   method 2\n",
    "n=13\n",
    "start=2\n",
    "count=0\n",
    "while start<n:\n",
    "    if n%start==0:\n",
    "        count+=1\n",
    "    start+=1\n",
    "if count==0:\n",
    "    print(\"prime number\")\n",
    "else:\n",
    "    print(\"not a prime number\")"
   ]
  },
  {
   "cell_type": "code",
   "execution_count": 7,
   "metadata": {},
   "outputs": [
    {
     "name": "stdout",
     "output_type": "stream",
     "text": [
      "prime number\n"
     ]
    }
   ],
   "source": [
    "#   method 3\n",
    "n=17\n",
    "start=2\n",
    "count=0\n",
    "while start<n:\n",
    "    if n%start==0:\n",
    "        print(\"not a prime number\")\n",
    "        break\n",
    "    start+=1   \n",
    "else:\n",
    "    print(\"prime number\")"
   ]
  },
  {
   "cell_type": "code",
   "execution_count": null,
   "metadata": {},
   "outputs": [],
   "source": [
    "#Termination statements: \n",
    "# break:    It is a keyword. It will stop the execution of the while.\n",
    "# Continue: It is a keyword. It is used to skip the current iteration in looping statement.\n",
    "#           Whenever controller set the continue keyword. It will stop the current iteration and skip the current statement.\n",
    "#           If in case any other statements are present after continue statement those statement will not execute in the iteration.\n",
    "#           syntax: continue\n",
    "# Pass:     It is a keyword.It is used to eliminate the syntax error inside the indentation block /indent block.\n",
    "#           Because inside the indentation block atleast we should write one statement. \n",
    "#           If in case we not written any statement inthe indentation block,it raise exception to overcomen this problem we've to \"pass\" case.\n",
    "#           It will specify the none value inside the indent block.\n",
    "#           Syntax: Pass"
   ]
  },
  {
   "cell_type": "code",
   "execution_count": 6,
   "metadata": {},
   "outputs": [
    {
     "name": "stdout",
     "output_type": "stream",
     "text": [
      "0\n",
      "1\n",
      "2\n",
      "3\n",
      "4\n",
      "5\n",
      "stop the loop\n"
     ]
    }
   ],
   "source": [
    "# Method \n",
    "s=0\n",
    "while s<10:\n",
    "    print(s)\n",
    "    if s==5:\n",
    "        print(\"stop the loop\")\n",
    "        break\n",
    "    s+=1"
   ]
  },
  {
   "cell_type": "code",
   "execution_count": null,
   "metadata": {},
   "outputs": [],
   "source": [
    "# Method 2\n",
    "s=0\n",
    "while s<10:\n",
    "    print(s)\n",
    "    s+=1\n",
    "else:\n",
    "    print(\"bye\")"
   ]
  },
  {
   "cell_type": "code",
   "execution_count": 2,
   "metadata": {},
   "outputs": [
    {
     "name": "stdout",
     "output_type": "stream",
     "text": [
      "0\n",
      "1\n",
      "2\n",
      "3\n",
      "4\n",
      "5\n",
      "stop the loop\n"
     ]
    }
   ],
   "source": [
    "# Method 3\n",
    "s=0\n",
    "while s<10:\n",
    "    print(s)\n",
    "    if s==5:\n",
    "        print(\"stop the loop\")\n",
    "        break\n",
    "    s+=1\n",
    "else:\n",
    "    print(\"bye\")"
   ]
  },
  {
   "cell_type": "code",
   "execution_count": 1,
   "metadata": {},
   "outputs": [
    {
     "name": "stdout",
     "output_type": "stream",
     "text": [
      "0 1 2 3 4 5 6 7 8 9 bye\n"
     ]
    }
   ],
   "source": [
    "# Continue\n",
    "s=0\n",
    "while s<10:\n",
    "    print(s,end=\" \")\n",
    "    s+=1\n",
    "    continue\n",
    "    print(\"haii\")\n",
    "else:\n",
    "    print(\"bye\")"
   ]
  },
  {
   "cell_type": "code",
   "execution_count": 1,
   "metadata": {},
   "outputs": [
    {
     "name": "stdout",
     "output_type": "stream",
     "text": [
      "0 haii\n",
      "1 2 haii\n",
      "3 haii\n",
      "4 haii\n",
      "5 6 7 haii\n",
      "8 haii\n",
      "9 haii\n"
     ]
    }
   ],
   "source": [
    "s=0\n",
    "while s<10:\n",
    "    print(s,end=\" \")\n",
    "    if s in [1,5,6]:\n",
    "        s+=1\n",
    "        continue\n",
    "    print(\"haii\")\n",
    "    s+=1"
   ]
  },
  {
   "cell_type": "code",
   "execution_count": 5,
   "metadata": {},
   "outputs": [
    {
     "name": "stdout",
     "output_type": "stream",
     "text": [
      "spy number\n"
     ]
    }
   ],
   "source": [
    "# wap to check given number is spy number are not \n",
    "num=eval(input(\"enter a number\"))\n",
    "s=0\n",
    "p=1\n",
    "while(num>0):\n",
    "    j=num%10\n",
    "    s=s+j\n",
    "    p=p*j\n",
    "    num=num//10\n",
    "if(s==p):\n",
    "    print(\"spy number\")\n",
    "else:\n",
    "    print(\"not a spy number\")\n",
    "\n",
    "    \n",
    "\n"
   ]
  },
  {
   "cell_type": "code",
   "execution_count": 41,
   "metadata": {},
   "outputs": [
    {
     "name": "stdout",
     "output_type": "stream",
     "text": [
      "It is a Spy number\n"
     ]
    }
   ],
   "source": [
    "num=int(input(\"enter a number \"))\n",
    "s=0\n",
    "prod=1\n",
    "while(num>0):\n",
    "    b=num%10                    # 123====1+2+3==6  & 123====1*2*3==6  (sum and multiply the numbers)\n",
    "    s=s+b\n",
    "    prod=prod*b\n",
    "    num=num//10\n",
    "if(s==prod):\n",
    "    print('It is a Spy number')\n",
    "else:\n",
    "    print('It is not a Spy number')"
   ]
  },
  {
   "cell_type": "code",
   "execution_count": 6,
   "metadata": {},
   "outputs": [
    {
     "name": "stdout",
     "output_type": "stream",
     "text": [
      "1100\n"
     ]
    }
   ],
   "source": [
    "# wap to display the binary value from given number\n",
    "num=12\n",
    "rem=0\n",
    "st=''\n",
    "while num:\n",
    "    quo=num//2\n",
    "    rem=num%2\n",
    "    st=str(rem)+st\n",
    "    num=quo\n",
    "print(st)"
   ]
  },
  {
   "cell_type": "code",
   "execution_count": 24,
   "metadata": {},
   "outputs": [
    {
     "name": "stdout",
     "output_type": "stream",
     "text": [
      "10\n"
     ]
    }
   ],
   "source": [
    "# how extact the each digit\n",
    "n=1010\n",
    "pow=0\n",
    "sum1=0\n",
    "while n:\n",
    "    ld=n%10\n",
    "    sum1+=(ld*(2**pow))\n",
    "    pow+=1\n",
    "    n=n//10\n",
    "print(sum1)    "
   ]
  },
  {
   "cell_type": "code",
   "execution_count": 37,
   "metadata": {},
   "outputs": [
    {
     "name": "stdout",
     "output_type": "stream",
     "text": [
      "0\n",
      "1\n",
      "1\n",
      "2\n",
      "3\n",
      "5\n",
      "8\n",
      "13\n"
     ]
    }
   ],
   "source": [
    "# fibinousis\n",
    "# wap a program fibinousic series upto nth value(certain value)\n",
    "a=0\n",
    "b=1\n",
    "print(a)\n",
    "print(b)\n",
    "n=15\n",
    "while True:\n",
    "    c=a+b\n",
    "    if c>=15:\n",
    "        break\n",
    "    print(c)\n",
    "    a=b\n",
    "    b=c\n",
    "\n",
    "# Method 2\n",
    "\n"
   ]
  },
  {
   "cell_type": "code",
   "execution_count": 40,
   "metadata": {},
   "outputs": [
    {
     "name": "stdout",
     "output_type": "stream",
     "text": [
      "0\n",
      "1\n",
      "1\n",
      "2\n",
      "3\n",
      "5\n",
      "8\n",
      "13\n",
      "21\n",
      "34\n"
     ]
    }
   ],
   "source": [
    "# wap to print the fibinouic series upto nth time\n",
    "\n",
    "a=0\n",
    "b=1\n",
    "print(a)\n",
    "print(b)\n",
    "n=10\n",
    "while n-2:\n",
    "    c=a+b\n",
    "    print(c)\n",
    "    a=b\n",
    "    b=c\n",
    "    n-=1"
   ]
  },
  {
   "cell_type": "code",
   "execution_count": 61,
   "metadata": {},
   "outputs": [
    {
     "name": "stdout",
     "output_type": "stream",
     "text": [
      "1 1\n",
      "2 2\n",
      "3 6\n",
      "4 24\n",
      "5 120\n"
     ]
    }
   ],
   "source": [
    "# wap to print the factorial values from 1 to nth\n",
    "# n=eval(input(\"enter a number\"))\n",
    "# n=10\n",
    "# start=1\n",
    "# fact=1\n",
    "# while start<=n:\n",
    "#     fact*=start\n",
    "#     print(start,fact)\n",
    "#     start+=1\n",
    "\n",
    "\n",
    "# Method 2\n",
    "\n",
    "start=1\n",
    "n=5\n",
    "while start<=n:\n",
    "    m=start\n",
    "    i=1\n",
    "    fact=1\n",
    "    while i<=m:\n",
    "        fact*=i\n",
    "        i+=1\n",
    "    print(start,fact)\n",
    "    start+=1"
   ]
  },
  {
   "cell_type": "code",
   "execution_count": 56,
   "metadata": {},
   "outputs": [
    {
     "name": "stdout",
     "output_type": "stream",
     "text": [
      "Factorial of 8 is 40320\n"
     ]
    }
   ],
   "source": [
    "# Python 3 program to find\n",
    "# factorial of given number\n",
    "def factorial(n):\n",
    "\t\n",
    "\t# single line to find factorial\n",
    "\treturn 1 if (n==1 or n==0) else n * factorial(n - 1)\n",
    "\n",
    "# Driver Code\n",
    "num = 8\n",
    "print(\"Factorial of\",num,\"is\",factorial(num))\n",
    "\n"
   ]
  },
  {
   "cell_type": "code",
   "execution_count": 1,
   "metadata": {},
   "outputs": [
    {
     "name": "stdout",
     "output_type": "stream",
     "text": [
      "hello\n"
     ]
    }
   ],
   "source": [
    "'''khj,hegfhfukwashufw\n",
    "fhslbfsaklh.ufaws\n",
    "fnwasklbvjlsnv\n",
    "khaeflkvn'''\n",
    "st=\"hello\"\n",
    "print(st)"
   ]
  },
  {
   "cell_type": "code",
   "execution_count": null,
   "metadata": {},
   "outputs": [],
   "source": []
  }
 ],
 "metadata": {
  "kernelspec": {
   "display_name": "Python 3",
   "language": "python",
   "name": "python3"
  },
  "language_info": {
   "codemirror_mode": {
    "name": "ipython",
    "version": 3
   },
   "file_extension": ".py",
   "mimetype": "text/x-python",
   "name": "python",
   "nbconvert_exporter": "python",
   "pygments_lexer": "ipython3",
   "version": "3.11.4"
  },
  "orig_nbformat": 4
 },
 "nbformat": 4,
 "nbformat_minor": 2
}
