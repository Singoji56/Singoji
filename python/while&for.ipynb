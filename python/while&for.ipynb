{
 "cells": [
  {
   "cell_type": "code",
   "execution_count": 95,
   "metadata": {},
   "outputs": [
    {
     "name": "stdout",
     "output_type": "stream",
     "text": [
      "m h e l l o w o r l d n "
     ]
    }
   ],
   "source": [
    "# 1....WAP to print all the items presnt in the string between the range from m to n\n",
    "\n",
    "st='mhelloworldn'\n",
    "for i in range(0,len(st)):\n",
    "    print(st[i],end=' ')\n",
    "    "
   ]
  },
  {
   "cell_type": "code",
   "execution_count": 6,
   "metadata": {},
   "outputs": [
    {
     "name": "stdout",
     "output_type": "stream",
     "text": [
      "HLOD\n"
     ]
    }
   ],
   "source": [
    "# 2....WAP to print the uppercase characters in a given string\n",
    "\n",
    "st='HelLowOrlD'\n",
    "a=''\n",
    "for i in range(0,len(st)):\n",
    "    if 'A'<=st[i]<='Z':\n",
    "        a+=st[i]\n",
    "print(a)"
   ]
  },
  {
   "cell_type": "code",
   "execution_count": 7,
   "metadata": {},
   "outputs": [
    {
     "name": "stdout",
     "output_type": "stream",
     "text": [
      "elowrl\n"
     ]
    }
   ],
   "source": [
    "# 3....WAP to print the lowercase characters in a given string\n",
    "\n",
    "st='HelLowOrlD'\n",
    "a=''\n",
    "for i in range(0,len(st)):\n",
    "    if 'a'<=st[i]<='z':\n",
    "        a+=st[i]\n",
    "print(a)"
   ]
  },
  {
   "cell_type": "code",
   "execution_count": 15,
   "metadata": {},
   "outputs": [
    {
     "name": "stdout",
     "output_type": "stream",
     "text": [
      "29\n"
     ]
    }
   ],
   "source": [
    "# 4....WAP to print the ASCII Number characters in the given string\n",
    "\n",
    "st='Hell2oWorl9d'\n",
    "a=''\n",
    "for i in range(0,len(st)):\n",
    "    if '0'<=st[i]<='9':\n",
    "        a+=st[i]\n",
    "print(a)"
   ]
  },
  {
   "cell_type": "code",
   "execution_count": 22,
   "metadata": {},
   "outputs": [
    {
     "name": "stdout",
     "output_type": "stream",
     "text": [
      "@#\n"
     ]
    }
   ],
   "source": [
    "# 5....WAP to print the special characters in the given string\n",
    "\n",
    "st='hello@wor#ld'\n",
    "a=''\n",
    "for i in range(0,len(st)):\n",
    "    if not('A'<=st[i]<='Z' or 'a'<=st[i]<='z' or '0'<=st[i]<='9'):\n",
    "        a+=st[i]\n",
    "print(a)"
   ]
  },
  {
   "cell_type": "code",
   "execution_count": 24,
   "metadata": {},
   "outputs": [
    {
     "name": "stdout",
     "output_type": "stream",
     "text": [
      "eoo\n"
     ]
    }
   ],
   "source": [
    "# 6....WAP to print the vowels in given string\n",
    "\n",
    "st='helloworld'\n",
    "a=''\n",
    "for i in range(0,len(st)):\n",
    "    if st[i] in 'AEIOUaeiou':\n",
    "        a+=st[i]\n",
    "print(a)"
   ]
  },
  {
   "cell_type": "code",
   "execution_count": 26,
   "metadata": {},
   "outputs": [
    {
     "name": "stdout",
     "output_type": "stream",
     "text": [
      "hllwrld\n"
     ]
    }
   ],
   "source": [
    "# 7....WAP to print the consonents in the given string\n",
    "\n",
    "st='helloworld'\n",
    "a=''\n",
    "for i in range(0,len(st)):\n",
    "    if st[i] not in 'AEIOUaeiou':\n",
    "        a+=st[i]\n",
    "print(a)"
   ]
  },
  {
   "cell_type": "code",
   "execution_count": 35,
   "metadata": {},
   "outputs": [
    {
     "name": "stdout",
     "output_type": "stream",
     "text": [
      "dlrowolleh\n"
     ]
    }
   ],
   "source": [
    "# 8....WAP to print the reverse of the characters in given string\n",
    "\n",
    "st='helloworld'\n",
    "res=''\n",
    "for i in range(0,len(st)):\n",
    "    res=st[i]+res\n",
    "print(res)"
   ]
  },
  {
   "cell_type": "code",
   "execution_count": 38,
   "metadata": {},
   "outputs": [
    {
     "name": "stdout",
     "output_type": "stream",
     "text": [
      "hlool\n"
     ]
    }
   ],
   "source": [
    "# 9....WAP to print the even position values characters in the given string\n",
    "\n",
    "st='helloworld'\n",
    "res=''\n",
    "for i in range(0,len(st)):\n",
    "    if i%2==0:\n",
    "        res+=st[i]\n",
    "print(res)"
   ]
  },
  {
   "cell_type": "code",
   "execution_count": 39,
   "metadata": {},
   "outputs": [
    {
     "name": "stdout",
     "output_type": "stream",
     "text": [
      "elwrd\n"
     ]
    }
   ],
   "source": [
    "# 10....WAP to print the odd position values characters in a guven string\n",
    "\n",
    "st='helloworld'\n",
    "res=''\n",
    "for i in range(0,len(st)):\n",
    "    if i%2!=0:\n",
    "        res+=st[i]\n",
    "print(res)"
   ]
  },
  {
   "cell_type": "code",
   "execution_count": 42,
   "metadata": {},
   "outputs": [
    {
     "name": "stdout",
     "output_type": "stream",
     "text": [
      "10\n"
     ]
    }
   ],
   "source": [
    "# 11....WAP to print the total number of characters in a given string (with length function)\n",
    "\n",
    "st='helloworld'\n",
    "print(len(st))"
   ]
  },
  {
   "cell_type": "code",
   "execution_count": 45,
   "metadata": {},
   "outputs": [
    {
     "name": "stdout",
     "output_type": "stream",
     "text": [
      "10\n"
     ]
    }
   ],
   "source": [
    "# 12....WAP to print the total number of characters in a given string (without using length function)\n",
    "\n",
    "st='helloworld'\n",
    "count=0\n",
    "for i in st:\n",
    "    count+=1\n",
    "print(count)"
   ]
  },
  {
   "cell_type": "code",
   "execution_count": 49,
   "metadata": {},
   "outputs": [
    {
     "name": "stdout",
     "output_type": "stream",
     "text": [
      "13\n"
     ]
    }
   ],
   "source": [
    "# 13....WAP to count alphabets in a given string\n",
    "\n",
    "st='hellow2324gfsorld'\n",
    "res=0\n",
    "for i in range(0,len(st)):\n",
    "    if 'A'<=st[i]<='Z' or 'a'<=st[i]<='z':\n",
    "        res+=1\n",
    "print(res)"
   ]
  },
  {
   "cell_type": "code",
   "execution_count": 50,
   "metadata": {},
   "outputs": [
    {
     "name": "stdout",
     "output_type": "stream",
     "text": [
      "10\n"
     ]
    }
   ],
   "source": [
    "# 14....WAP to count alphabets in a given string\n",
    "\n",
    "st='hellowo523rld'\n",
    "count=0\n",
    "for i in st:\n",
    "    if 'a'<=i<='z' or 'A'<=i<='Z':\n",
    "        count+=1\n",
    "print(count)"
   ]
  },
  {
   "cell_type": "code",
   "execution_count": 39,
   "metadata": {},
   "outputs": [
    {
     "name": "stdout",
     "output_type": "stream",
     "text": [
      "3\n"
     ]
    }
   ],
   "source": [
    "# 15....WAP to count of number of upper case in a given string\n",
    "\n",
    "st='hellOwoRlD'\n",
    "count=0\n",
    "for i in range(0,len(st)):\n",
    "    if 'A'<=st[i]<='Z':\n",
    "        count+=1\n",
    "print(count)"
   ]
  },
  {
   "cell_type": "code",
   "execution_count": 52,
   "metadata": {},
   "outputs": [
    {
     "name": "stdout",
     "output_type": "stream",
     "text": [
      "7\n"
     ]
    }
   ],
   "source": [
    "# 16....WAP to count of number of lower case in a given string\n",
    "\n",
    "st='hellOwo34RlD'\n",
    "count=0\n",
    "for i in st:\n",
    "    if 'a'<=i<='z':\n",
    "        count+=1\n",
    "print(count)"
   ]
  },
  {
   "cell_type": "code",
   "execution_count": 53,
   "metadata": {},
   "outputs": [
    {
     "name": "stdout",
     "output_type": "stream",
     "text": [
      "8\n"
     ]
    }
   ],
   "source": [
    "# 17....WAP to count the number of special characters in the given string\n",
    "\n",
    "st='hellOw@#$!$$%@o34RlD'\n",
    "count=0\n",
    "for i in st:\n",
    "    if not('a'<=i<='z' or 'A'<=i<='Z' or '0'<=i<='9'):\n",
    "        count+=1\n",
    "print(count)"
   ]
  },
  {
   "cell_type": "code",
   "execution_count": 67,
   "metadata": {},
   "outputs": [
    {
     "name": "stdout",
     "output_type": "stream",
     "text": [
      "9 3\n"
     ]
    }
   ],
   "source": [
    "# 18....WAP to uppercase and lowercase in a given string\n",
    "\n",
    "st='helsdlOw@#$!$$%@o34RlD'\n",
    "res=0\n",
    "count=0\n",
    "for i in st:\n",
    "    if 'a'<=i<='z':\n",
    "        count+=1\n",
    "    elif 'A'<=i<='Z':\n",
    "        res+=1\n",
    "print(count,res)"
   ]
  },
  {
   "cell_type": "code",
   "execution_count": 68,
   "metadata": {},
   "outputs": [
    {
     "name": "stdout",
     "output_type": "stream",
     "text": [
      "7\n"
     ]
    }
   ],
   "source": [
    "# 19....WAP to count number of ascii number in a given string\n",
    "\n",
    "st=\"hello2e547126@#$\"\n",
    "count=0\n",
    "for i in st:\n",
    "    if '0'<=i<='9':\n",
    "        count+=1\n",
    "print(count)"
   ]
  },
  {
   "cell_type": "code",
   "execution_count": 71,
   "metadata": {},
   "outputs": [
    {
     "name": "stdout",
     "output_type": "stream",
     "text": [
      "7\n"
     ]
    }
   ],
   "source": [
    "# 20....WAP to count total number of words in a string\n",
    "\n",
    "st=\"hello world is a ki ng sjvdh\"\n",
    "count=1\n",
    "for i in st:\n",
    "    if ord(i)==32:\n",
    "        count+=1\n",
    "print(count)"
   ]
  },
  {
   "cell_type": "code",
   "execution_count": 75,
   "metadata": {},
   "outputs": [
    {
     "name": "stdout",
     "output_type": "stream",
     "text": [
      "8\n"
     ]
    }
   ],
   "source": [
    "# 21....WAP to count total number of spaces in a string\n",
    "\n",
    "st=\"hel lo world is a ki ng sjv dh\"\n",
    "count=0\n",
    "for i in st:\n",
    "    if ord(i)==32:\n",
    "        count+=1\n",
    "print(count)"
   ]
  },
  {
   "cell_type": "code",
   "execution_count": 84,
   "metadata": {},
   "outputs": [
    {
     "name": "stdout",
     "output_type": "stream",
     "text": [
      "3\n"
     ]
    }
   ],
   "source": [
    "# 22....WAP to count of vowels in a string\n",
    "\n",
    "st=\"helloitd\"\n",
    "count=0\n",
    "for i in st:\n",
    "    if i in 'aeiouAEIOU':\n",
    "        count+=1\n",
    "print(count)"
   ]
  },
  {
   "cell_type": "code",
   "execution_count": 89,
   "metadata": {},
   "outputs": [
    {
     "name": "stdout",
     "output_type": "stream",
     "text": [
      "5\n"
     ]
    }
   ],
   "source": [
    "# 23....WAP to count of consonants in a string\n",
    "\n",
    "st=\"helloitd\"\n",
    "count=0\n",
    "for i in st:\n",
    "    if i not in 'aeiouAEIOU':\n",
    "        count+=1\n",
    "print(count)"
   ]
  },
  {
   "cell_type": "code",
   "execution_count": 90,
   "metadata": {},
   "outputs": [
    {
     "name": "stdout",
     "output_type": "stream",
     "text": [
      "3 5\n"
     ]
    }
   ],
   "source": [
    "# 24....WAP to count vowels and consonants in a string\n",
    "\n",
    "st=\"helloitd\"\n",
    "count=0\n",
    "res=0\n",
    "for i in st:\n",
    "    if i in 'aeiouAEIOU':\n",
    "        count+=1\n",
    "    elif i not in 'aeiouAEIOU':\n",
    "        res+=1\n",
    "print(count,res)\n"
   ]
  },
  {
   "cell_type": "code",
   "execution_count": 101,
   "metadata": {},
   "outputs": [
    {
     "name": "stdout",
     "output_type": "stream",
     "text": [
      "6\n"
     ]
    }
   ],
   "source": [
    "# 25....WAP to count number of new lines in a given string\n",
    "st='''hidvysglfvhhjasbjhfscgwekjf           #how many times we press enter that is the output(fresh lines except main line)\n",
    "fk gwdhgfiufke   \n",
    "kjf\n",
    "gegf\n",
    "wg f\n",
    "eiulgf i\n",
    "ulewgfu'''\n",
    "count=0\n",
    "for i in st:\n",
    "    if ord(i)==10:\n",
    "        count+=1\n",
    "print(count)\n"
   ]
  },
  {
   "cell_type": "code",
   "execution_count": 7,
   "metadata": {},
   "outputs": [
    {
     "name": "stdout",
     "output_type": "stream",
     "text": [
      "5\n"
     ]
    }
   ],
   "source": [
    "# 26.... WAP to count the number of lines in a given string\n",
    "st='''hidvysglfvhhjasbjhfscgwekjf\n",
    "njhvzdxsjv\n",
    "kjvscv\n",
    "bckhvsv\n",
    "nhxzdfgfghchjv'''\n",
    "count=1\n",
    "for i in st:\n",
    "    if ord(i)==10:\n",
    "        count+=1\n",
    "print(count)\n"
   ]
  },
  {
   "cell_type": "code",
   "execution_count": 19,
   "metadata": {},
   "outputs": [
    {
     "name": "stdout",
     "output_type": "stream",
     "text": [
      "spcl char= 2 alpha= 19 num= 2\n"
     ]
    }
   ],
   "source": [
    "# 27.... WAP to count no of alphabets,numbers and special characters in a given string\n",
    "st=\"charinikhil04@gmail.com\"\n",
    "count=0\n",
    "res=0\n",
    "num=0\n",
    "for i in st:\n",
    "    if not('a'<=i<='z' or 'A'<=i<='Z' or '0'<=i<='9'):\n",
    "        count+=1\n",
    "    elif ('a'<=i<='z' or 'A'<=i<='Z'):\n",
    "        res+=1\n",
    "    elif ('0'<=i<='9'):\n",
    "        num+=1\n",
    "print('spcl char=',count,'alpha=',res,'num=',num)\n"
   ]
  },
  {
   "cell_type": "code",
   "execution_count": 24,
   "metadata": {},
   "outputs": [
    {
     "name": "stdout",
     "output_type": "stream",
     "text": [
      "3\n"
     ]
    }
   ],
   "source": [
    "# 28.... WAP to count total no. of words in a first line of the Doc string\n",
    "st=\"hello good morning\"\n",
    "count=1\n",
    "for i in st:\n",
    "    if i==\" \":\n",
    "        count+=1\n",
    "print(count)"
   ]
  },
  {
   "cell_type": "code",
   "execution_count": 30,
   "metadata": {},
   "outputs": [
    {
     "name": "stdout",
     "output_type": "stream",
     "text": [
      "15\n"
     ]
    }
   ],
   "source": [
    "# 29.... WAP to sum of digits in a given string\n",
    "st='12vh@34gcbhtc5'\n",
    "count=0\n",
    "for i in st:\n",
    "    if ('0'<=i<='9'):\n",
    "        count+=int(i)\n",
    "print(count)"
   ]
  },
  {
   "cell_type": "code",
   "execution_count": 32,
   "metadata": {},
   "outputs": [
    {
     "name": "stdout",
     "output_type": "stream",
     "text": [
      "2 l\n"
     ]
    }
   ],
   "source": [
    "# 30.... WAP to print first occurance of a character in a string\n",
    "st=\"hello world\"\n",
    "ch='l'\n",
    "for i in range(0,len(st)):\n",
    "    if ch==st[i]:\n",
    "        print(i,st[i])\n",
    "        break\n"
   ]
  },
  {
   "cell_type": "code",
   "execution_count": 38,
   "metadata": {},
   "outputs": [
    {
     "name": "stdout",
     "output_type": "stream",
     "text": [
      "l 9\n"
     ]
    }
   ],
   "source": [
    "# 31.... WAP to print last occurance of a character in a string\n",
    "st=\"hello world\"\n",
    "ch='l'\n",
    "for i in range(len(st)-1,-1,-1):\n",
    "    if ch==st[i]:\n",
    "        print(st[i],i)\n",
    "        break"
   ]
  },
  {
   "cell_type": "code",
   "execution_count": 7,
   "metadata": {},
   "outputs": [],
   "source": [
    "# 32.... WAP to print first not occurance of a character in a string\n",
    "st=\"hello world\"\n",
    "ch="
   ]
  },
  {
   "cell_type": "code",
   "execution_count": null,
   "metadata": {},
   "outputs": [],
   "source": [
    "# 33.... WAP to print last not occurance of a character in a string\n",
    " "
   ]
  },
  {
   "cell_type": "code",
   "execution_count": 21,
   "metadata": {},
   "outputs": [
    {
     "name": "stdout",
     "output_type": "stream",
     "text": [
      "helo world\n"
     ]
    }
   ],
   "source": [
    "# 34.... WAP to remove first occurance of a character in a string\n",
    "st='hello world'\n",
    "ch='l'\n",
    "count=0\n",
    "f=''\n",
    "for i in range(0,len(st)):\n",
    "    if st[i]==ch:\n",
    "        count+=1\n",
    "        if count==1:\n",
    "            f+=''\n",
    "        else:\n",
    "            f+=st[i]\n",
    "    else:\n",
    "        f+=st[i]\n",
    "print(f)\n"
   ]
  },
  {
   "cell_type": "code",
   "execution_count": 4,
   "metadata": {},
   "outputs": [
    {
     "name": "stdout",
     "output_type": "stream",
     "text": [
      "2\n"
     ]
    }
   ],
   "source": [
    "# 35.... WAP to count the occurance of a specific character in a  given string\n",
    "st=\"charinikhil04@#ga&#$com\"\n",
    "g='#'\n",
    "count=0\n",
    "for i in st:\n",
    "    if i==g:\n",
    "        count+=1\n",
    "print(count)"
   ]
  },
  {
   "cell_type": "code",
   "execution_count": 1,
   "metadata": {},
   "outputs": [
    {
     "name": "stdout",
     "output_type": "stream",
     "text": [
      "{'c': 2, 'h': 2, 'a': 2, 'r': 1, 'i': 3, 'n': 1, 'k': 1, 'l': 1, '0': 1, '#': 4, '4': 1, '@': 1, 'g': 1, '&': 1, '$': 1, 'o': 1, 'm': 1}\n",
      "4 #\n"
     ]
    }
   ],
   "source": [
    "# 36 ....WAP to count the max occurance of a character in  given string\n",
    "st=\"charinikhil0##4@#ga&#$com\"\n",
    "# st='hello world'\n",
    "d={}\n",
    "for i in st:\n",
    "    if i not in d:\n",
    "        d[i]=1\n",
    "    else:\n",
    "        d[i]+=1\n",
    "print(d)\n",
    "max=0\n",
    "ch=''\n",
    "for i in d:\n",
    "    if d[i]>max:\n",
    "        max=d[i]\n",
    "        ch=i\n",
    "print(max,ch)\n",
    "\n"
   ]
  },
  {
   "cell_type": "code",
   "execution_count": 4,
   "metadata": {},
   "outputs": [
    {
     "name": "stdout",
     "output_type": "stream",
     "text": [
      "{'c': 0, 'h': 0, 'a': 0, 'r': 1, 'i': -1, 'n': 1, 'k': 1, 'l': 1, '0': 1, '#': -2, '4': 1, '@': 1, 'g': 1, '&': 1, '$': 1, 'o': 1, 'm': 1}\n",
      "1 r\n"
     ]
    }
   ],
   "source": [
    "# 37 ....WAP to count the min occurance of a character in a given string\n",
    "st=\"charinikhil0##4@#ga&#$com\"\n",
    "# st='hello world'\n",
    "d={}\n",
    "for i in st:\n",
    "    if i not in d:\n",
    "        d[i]=1\n",
    "    else:\n",
    "        d[i]-=1\n",
    "print(d)\n",
    "max=0\n",
    "ch=''\n",
    "for i in d:\n",
    "    if d[i]>max:\n",
    "        max=d[i]\n",
    "        ch=i\n",
    "print(max,ch)"
   ]
  },
  {
   "cell_type": "code",
   "execution_count": null,
   "metadata": {},
   "outputs": [],
   "source": [
    "# 38 ....WAP to count the repeats of specific character in a given string"
   ]
  },
  {
   "cell_type": "code",
   "execution_count": null,
   "metadata": {},
   "outputs": [],
   "source": [
    "# 39 ....WAP to count the max repeated character in a given string"
   ]
  },
  {
   "cell_type": "code",
   "execution_count": null,
   "metadata": {},
   "outputs": [],
   "source": [
    "# 40 .... WAP to count the minimum repeated character in a given string\n"
   ]
  },
  {
   "cell_type": "code",
   "execution_count": null,
   "metadata": {},
   "outputs": [],
   "source": [
    "# 41 .... WAP to replace a specific character "
   ]
  }
 ],
 "metadata": {
  "kernelspec": {
   "display_name": "Python 3",
   "language": "python",
   "name": "python3"
  },
  "language_info": {
   "codemirror_mode": {
    "name": "ipython",
    "version": 3
   },
   "file_extension": ".py",
   "mimetype": "text/x-python",
   "name": "python",
   "nbconvert_exporter": "python",
   "pygments_lexer": "ipython3",
   "version": "3.11.4"
  },
  "orig_nbformat": 4
 },
 "nbformat": 4,
 "nbformat_minor": 2
}
