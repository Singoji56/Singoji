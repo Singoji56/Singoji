{
 "cells": [
  {
   "cell_type": "code",
   "execution_count": null,
   "metadata": {},
   "outputs": [],
   "source": [
    "import datetime\n",
    "\n",
    "class restaurant:\n",
    "    r_name=\"mandi.com\"\n",
    "    branch=\"dsnr\"{}\n",
    "    contact=7846457558\n",
    "\n",
    "    def __init__(nonveg, starters, mandi,veg):\n",
    "        self.nonveg=nonveg\n",
    "        self.starters=starters\n",
    "        self.mandi=mandi\n",
    "        self.veg=veg\n",
    "\n",
    "    @classmethod        "
   ]
  }
 ],
 "metadata": {
  "kernelspec": {
   "display_name": "Python 3",
   "language": "python",
   "name": "python3"
  },
  "language_info": {
   "codemirror_mode": {
    "name": "ipython",
    "version": 3
   },
   "file_extension": ".py",
   "mimetype": "text/x-python",
   "name": "python",
   "nbconvert_exporter": "python",
   "pygments_lexer": "ipython3",
   "version": "3.11.4"
  }
 },
 "nbformat": 4,
 "nbformat_minor": 2
}
