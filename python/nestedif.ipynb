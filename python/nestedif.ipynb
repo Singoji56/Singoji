{
 "cells": [
  {
   "cell_type": "code",
   "execution_count": 111,
   "metadata": {},
   "outputs": [
    {
     "name": "stdout",
     "output_type": "stream",
     "text": [
      "b 98\n"
     ]
    }
   ],
   "source": [
    "n=eval(input(\"enter a char:\"))\n",
    "if 'a'<=n<='z' or 'A'<=n<='Z' and type(n)==str:\n",
    "        if 'A'<=n<='Z':\n",
    "            if n in 'AEIOU':\n",
    "                 res=chr(ord(n)+32)\n",
    "                 print(res)\n",
    "        if 'a'<=n<='z':\n",
    "            if n not in 'aeiou':\n",
    "                 res=ord(n)\n",
    "                 print(n,res)\n",
    "        if not ('a'<=n<='z' or 'A'<=n<='Z' or '0'<=n<='9') and type(n)==str:\n",
    "             if 58<=ord(n)<=65 or 91<=ord(n)<=96:\n",
    "                  print(n)\n",
    "if ('0'<=n<='9') and type(n)==str:\n",
    "     if int(n)%2==0:\n",
    "          print(\"it is an even number\")\n",
    "     else:\n",
    "          print(\"it is an odd number\")"
   ]
  },
  {
   "cell_type": "code",
   "execution_count": 24,
   "metadata": {},
   "outputs": [
    {
     "ename": "TypeError",
     "evalue": "'tuple' object does not support item assignment",
     "output_type": "error",
     "traceback": [
      "\u001b[1;31m---------------------------------------------------------------------------\u001b[0m",
      "\u001b[1;31mTypeError\u001b[0m                                 Traceback (most recent call last)",
      "Cell \u001b[1;32mIn[24], line 27\u001b[0m\n\u001b[0;32m     25\u001b[0m \u001b[39mif\u001b[39;00m \u001b[39mtype\u001b[39m(n[\u001b[39m0\u001b[39m])\u001b[39m==\u001b[39m\u001b[39mtype\u001b[39m(n[\u001b[39mlen\u001b[39m(n)\u001b[39m/\u001b[39m\u001b[39m/\u001b[39m\u001b[39m2\u001b[39m])\u001b[39m==\u001b[39m\u001b[39mtype\u001b[39m(n[\u001b[39m-\u001b[39m\u001b[39m1\u001b[39m])\u001b[39m==\u001b[39m\u001b[39mint\u001b[39m \u001b[39mand\u001b[39;00m n[\u001b[39m0\u001b[39m]\u001b[39m<\u001b[39mn[\u001b[39mlen\u001b[39m(n)\u001b[39m/\u001b[39m\u001b[39m/\u001b[39m\u001b[39m2\u001b[39m]\u001b[39m<\u001b[39mn[\u001b[39m-\u001b[39m\u001b[39m1\u001b[39m]:\n\u001b[0;32m     26\u001b[0m     b\u001b[39m=\u001b[39mn[\u001b[39m0\u001b[39m]\n\u001b[1;32m---> 27\u001b[0m     n[\u001b[39m0\u001b[39;49m]\u001b[39m=\u001b[39mn[\u001b[39mlen\u001b[39m(n)\u001b[39m/\u001b[39m\u001b[39m/\u001b[39m\u001b[39m2\u001b[39m]\n\u001b[0;32m     28\u001b[0m     n[\u001b[39mlen\u001b[39m(n)\u001b[39m/\u001b[39m\u001b[39m/\u001b[39m\u001b[39m2\u001b[39m]\u001b[39m=\u001b[39mb\n\u001b[0;32m     29\u001b[0m     \u001b[39mprint\u001b[39m(n)\n",
      "\u001b[1;31mTypeError\u001b[0m: 'tuple' object does not support item assignment"
     ]
    }
   ],
   "source": [
    "n=eval(input(\"enter a value\"))\n",
    "if type(n)==str:\n",
    "    if(3<len(n)<15):\n",
    "        res=n[::2]\n",
    "        print(res)\n",
    "    else:\n",
    "        res=n[1::2]\n",
    "        print(res)\n",
    "if type(n)==list:\n",
    "    if n[0]==n[-1] and type(n[0]) in (int,float,complex,bool) and type(n[-1]) in (int,float,complex,bool):\n",
    "        print(int(n[0])+int(n[-1]))\n",
    "    else:\n",
    "        n[0]!=n[-1]\n",
    "        b=n[0]\n",
    "        n[0]=n[-1]\n",
    "        n[-1]=b\n",
    "        print(n)\n",
    "if type(n)==dict:\n",
    "    res=set(n.values())\n",
    "    print(res)\n",
    "if type(n)==set:\n",
    "    if len(n)%2==0:\n",
    "        n&{1,2,3,4,5}\n",
    "if type(n)==tuple:\n",
    "    if type(n[0])==type(n[len(n)//2])==type(n[-1])==int and n[0]<n[len(n)//2]<n[-1]:\n",
    "        b=n[0]\n",
    "        a=n[len(n)//2]\n",
    "        c=int(n[-1])**2\n",
    "        res=(b,)+n[1:len(n)//2]+(a,)+n[len(n)//2+1:-1:]+(c,)\n",
    "        print(res)\n",
    "if type(n)==float\n"
   ]
  },
  {
   "cell_type": "code",
   "execution_count": 27,
   "metadata": {},
   "outputs": [
    {
     "name": "stdout",
     "output_type": "stream",
     "text": [
      "saijaead\n",
      "TEGAMIL\n",
      "@\n",
      "142\n"
     ]
    }
   ],
   "source": [
    "#       12-09-2023\n",
    "# wap to segergate the characters from given string\n",
    "s='saiTEja@GAMILea142d'\n",
    "uc,lc,sp,an='','','',''\n",
    "for i in s:\n",
    "    if 'a'<=i<='z':\n",
    "        uc+=i\n",
    "    elif 'A'<=i<='Z':\n",
    "        lc+=i\n",
    "    elif '0'<=i<='9':\n",
    "        an+=i\n",
    "    else:\n",
    "        sp+=i\n",
    "print(uc)\n",
    "print(lc)\n",
    "print(sp)\n",
    "print(an)"
   ]
  },
  {
   "cell_type": "code",
   "execution_count": 25,
   "metadata": {},
   "outputs": [
    {
     "name": "stdout",
     "output_type": "stream",
     "text": [
      "\n",
      "valid password\n"
     ]
    }
   ],
   "source": [
    "# wap to check given password is valid or invalid wite down the constraints \n",
    "# minimum one numeric charachter to special characters except.([{}]),''\n",
    "# starting character and ending character should be uppercase character\n",
    "# maximum 5 lower case characters and 1 lower case\n",
    "# given input is string and length of the string and length of sttring is minimum 8 and maximum 20\n",
    "s='PYdgs@#$%1234R'\n",
    "if type(s)==str and 8<=len(s)<=20 and 'A'<=s[0]<='Z' and 'A'<=s[-1]<='Z':\n",
    "    uc,lc,sp,an='','','',''\n",
    "    ps=''\n",
    "    for i in s:\n",
    "        if 'A'<=i<='Z':\n",
    "            uc+=i\n",
    "        elif 'a'<=i<='z':\n",
    "            lc+=i\n",
    "        elif '0'<=i<='9':\n",
    "            an+=i\n",
    "        elif i not in \". (){}[]\":\n",
    "            sp+=i\n",
    "        else:\n",
    "            ps+=i\n",
    "    print(ps)\n",
    "    if len(an)>=1 and 1<=len(lc)<=5 and len(sp)>=2 and len(ps)==0:\n",
    "                print(\"valid password\")\n",
    "    else:\n",
    "                print(\"invalid password\")\n",
    "else:\n",
    "        print(\"invalid password\")"
   ]
  },
  {
   "cell_type": "code",
   "execution_count": 29,
   "metadata": {},
   "outputs": [
    {
     "ename": "SyntaxError",
     "evalue": "invalid syntax (1283301516.py, line 7)",
     "output_type": "error",
     "traceback": [
      "\u001b[1;36m  Cell \u001b[1;32mIn[29], line 7\u001b[1;36m\u001b[0m\n\u001b[1;33m    elif not('A'<=s[0]<='Z' and 'A'<=s[-1]='Z'):\u001b[0m\n\u001b[1;37m                                          ^\u001b[0m\n\u001b[1;31mSyntaxError\u001b[0m\u001b[1;31m:\u001b[0m invalid syntax\n"
     ]
    }
   ],
   "source": [
    "# wap to check password is valid or invalid if it is invalid to display the reason if in case it valid doesn't display nothing\n",
    "s='Abcdf.shgnH'\n",
    "if not(type(s)==str):\n",
    "    print(\"value should be string\")\n",
    "elif not(8<=len(s)<=20):\n",
    "    print(\"password min 8 characters and max 20 characters\")\n",
    "elif not('A'<=s[0]<='Z' and 'A'<=s[-1]='Z'):\n",
    "    print(\"password should 1st and last character sholud be uppercase\")\n",
    "elif type(ps)==str and 8<=len<=20 and 'A'<=ps[0]<='Z' and 'A'<=ps[-1]<='Z':\n",
    "    for p in ps:\n",
    "        if 'A'<=p<='Z':\n",
    "            uc+=p\n",
    "        elif 'a'<=p<='z':\n",
    "            lc+=i\n",
    "        elif '0'<=i<='9':\n",
    "            an+=i\n",
    "        else i not in \". ()[]{}\":\n",
    "            sp+=i\n",
    "    else:\n",
    "        ps+=i\n",
    "        if not(len(an)>=1):\n",
    "            print(\"password should be min 1 numeric character\")\n",
    "        if not(1<=len(lc)<=5):\n",
    "            print(\"password sholud be min 1 lowercase and max 5 lowercase characters\")\n",
    "        if not(len(sp)>=2):\n",
    "            print(\"password should be min special characters\")\n",
    "        if not(len(ps)==0):\n",
    "            print(\"password should not be  ()[]{}\")\n",
    "\n",
    "\n"
   ]
  },
  {
   "cell_type": "code",
   "execution_count": 40,
   "metadata": {},
   "outputs": [
    {
     "name": "stdout",
     "output_type": "stream",
     "text": [
      "10\n"
     ]
    }
   ],
   "source": [
    "# wap to count the number of data items in given collection without length function without using length function\n",
    "var=eval(input(\"enter the value:\"))\n",
    "if type(var) in [str,list,tuple,set,dict]:\n",
    "    count=0\n",
    "    for i in var:\n",
    "        count+=1\n",
    "    print(count)"
   ]
  },
  {
   "cell_type": "code",
   "execution_count": 44,
   "metadata": {},
   "outputs": [
    {
     "name": "stdout",
     "output_type": "stream",
     "text": [
      "2\n"
     ]
    }
   ],
   "source": [
    "# wap to count the specific data item in the given collection\n",
    "var=eval(input(\"enter the value:\"))\n",
    "sp=eval(input(\"enter the value:\"))\n",
    "if type(var) in [str,list,tuple]:\n",
    "    count=0\n",
    "    for i in var:\n",
    "        if sp==i:\n",
    "            count+=1\n",
    "    print(count)\n",
    "\n",
    "# var input ====='helloworld'\n",
    "# sp input========'o'\n",
    "# output=======2"
   ]
  },
  {
   "cell_type": "code",
   "execution_count": 45,
   "metadata": {},
   "outputs": [
    {
     "name": "stdout",
     "output_type": "stream",
     "text": [
      "12\n"
     ]
    }
   ],
   "source": [
    "# wap to count the each data item in given collection \n",
    "var=eval(input(\"enter the value:\"))\n",
    "if type(var) in [str,list,tuple,set,dict]:\n",
    "    count>=1\n",
    "    for i in var:\n",
    "        count+=1\n",
    "    print(count)"
   ]
  },
  {
   "cell_type": "code",
   "execution_count": 10,
   "metadata": {},
   "outputs": [
    {
     "name": "stdout",
     "output_type": "stream",
     "text": [
      "helo\n",
      "()\n",
      "{'h': 1, 'e': 1, 'l': 2, 'o': 1}\n"
     ]
    }
   ],
   "source": [
    "# wap to extract the unique data items from the given string\n",
    "\n",
    "st='hello'\n",
    "uni=''\n",
    "for i in st:\n",
    "    if i not in uni:\n",
    "        uni+=i\n",
    "print(uni)    # output ====helo\n",
    "\n",
    "#  method 2\n",
    "# st=[10,20,40,50,20,20,90,80]\n",
    "# uni=[]\n",
    "# for i in st:\n",
    "# if i not in uni:\n",
    "# uni+=i\n",
    "# print(uni)\n",
    "\n",
    "\n",
    "st=(10,20,40,50,20,20,90,80)\n",
    "uni=()\n",
    "for i in uni:\n",
    "    if i not in uni:\n",
    "        uni+=(i,)\n",
    "print(uni)   # .'.output:-(10,20,40,50,90,80)\n",
    "\n",
    "# method 3\n",
    "st='hello'\n",
    "d={}\n",
    "for i in st:\n",
    "    if i not in d:\n",
    "        d[i]=1\n",
    "    else:\n",
    "        d[i]+=1\n",
    "print(d)"
   ]
  },
  {
   "cell_type": "code",
   "execution_count": 6,
   "metadata": {},
   "outputs": [
    {
     "name": "stdout",
     "output_type": "stream",
     "text": [
      "helowrd\n",
      "[['h', 1], ['e', 1], ['l', 1], ['l', 2], ['l', 3], ['o', 1], ['o', 2], ['w', 1], ['r', 1], ['d', 1]]\n",
      "1\n"
     ]
    }
   ],
   "source": [
    "#   wap to count the data item in the given collection\n",
    "st=\"helloworld\"\n",
    "uni=''\n",
    "for i in st:\n",
    "    if i not in uni:\n",
    "        uni+=i\n",
    "print(uni)\n",
    "\n",
    "l=[]\n",
    "for i in uni:\n",
    "    count=0\n",
    "    for j in st:\n",
    "        if i==j:\n",
    "            count+=1\n",
    "            l+=[[i,count]]\n",
    "print(l)\n",
    "u=dict(l)\n",
    "print(u['h'])"
   ]
  },
  {
   "cell_type": "code",
   "execution_count": 22,
   "metadata": {},
   "outputs": [
    {
     "name": "stdout",
     "output_type": "stream",
     "text": [
      "{'h': 1, 'e': 1, 'l': 3, 'o': 2, 'w': 1, 'r': 1, 'd': 1}\n",
      "l 3\n"
     ]
    }
   ],
   "source": [
    "# wap to findout the maximum occurance character in given string\n",
    "st='hellowolrd'\n",
    "d={}\n",
    "for i in st:\n",
    "    if i not in d:\n",
    "        d[i]=1\n",
    "    else:\n",
    "        d[i]+=1\n",
    "print(d)\n",
    "\n",
    "max=0\n",
    "ch=None\n",
    "for i in d:\n",
    "    if max < d[i]:\n",
    "        max=d[i]\n",
    "        ch=i\n",
    "print(ch,max)\n",
    "\n",
    "\n",
    "        "
   ]
  },
  {
   "cell_type": "code",
   "execution_count": 33,
   "metadata": {},
   "outputs": [
    {
     "name": "stdout",
     "output_type": "stream",
     "text": [
      "{'h': 1, 'e': 1, 'l': 3, 'o': 2, 'w': 1, 'r': 1, 'd': 1}\n",
      "h 1\n",
      "{'h': 1, 'e': 1, 'l': 3, 'o': 2, 'w': 1, 'r': 1, 'd': 1}\n",
      "h 1\n",
      "[['e', 1], ['w', 1], ['r', 1], ['d', 1], ['h', 1]]\n"
     ]
    }
   ],
   "source": [
    "# wap to findout the minimum occurance character in given string\n",
    "st='hellowolrd'\n",
    "d={}\n",
    "for i in st:\n",
    "    if i not in d:\n",
    "        d[i]=1\n",
    "    else:\n",
    "        d[i]+=1\n",
    "print(d)\n",
    "\n",
    "min=len(st)\n",
    "ch=None\n",
    "for i in d:\n",
    "    if min > d[i]:\n",
    "        min=d[i]\n",
    "        ch=i\n",
    "print(ch,min)   #  output :- display the starting least character\n",
    "\n",
    "# method 2\n",
    "\n",
    "st='hellowolrd'\n",
    "d={}\n",
    "for i in st:\n",
    "    if i not in d:\n",
    "        d[i]=1\n",
    "    else:\n",
    "        d[i]+=1\n",
    "print(d)\n",
    "\n",
    "min=len(st)\n",
    "ch=None\n",
    "u=[]\n",
    "for i in d:\n",
    "    if min > d[i]:\n",
    "        min=d[i]\n",
    "        ch=i\n",
    "    elif min==d[i]:\n",
    "        u+=[[i,d[i]]]\n",
    "u+=[[ch,min]]\n",
    "print(ch,min)\n",
    "print(u)\n",
    "\n"
   ]
  },
  {
   "cell_type": "code",
   "execution_count": 44,
   "metadata": {},
   "outputs": [
    {
     "name": "stdout",
     "output_type": "stream",
     "text": [
      "helloworld\n",
      "{'h': 1, 'e': 1, 'l': 3, 'o': 2, 'w': 1, 'r': 1, 'd': 1}\n",
      "{1: ['h', 'e', 'w', 'r', 'd'], 3: ['l'], 2: ['o']}\n"
     ]
    }
   ],
   "source": [
    "st='helloworld'\n",
    "print(st)\n",
    "d={}\n",
    "for i in st:\n",
    "    if i not in d:\n",
    "        d[i]=1\n",
    "    else:\n",
    "        d[i]+=1\n",
    "print(d)\n",
    "\n",
    "res={}\n",
    "for j in d:\n",
    "    if d[j] not in res:\n",
    "        res[d[j]]=[j]\n",
    "    else:\n",
    "        res[d[j]]+=[j]\n",
    "print(res)"
   ]
  },
  {
   "cell_type": "code",
   "execution_count": 63,
   "metadata": {},
   "outputs": [
    {
     "name": "stdout",
     "output_type": "stream",
     "text": [
      "{'h': 1, 'e': 1, 'l': 3, 'o': 2, 'w': 1, 'r': 1, 'd': 1}\n",
      "h 1\n",
      "5\n"
     ]
    }
   ],
   "source": [
    "# wap to count the least occurance chareacters from given string\n",
    "st='hellowolrd'\n",
    "d={}\n",
    "for i in st:\n",
    "    if i not in d:\n",
    "        d[i]=1\n",
    "    else:\n",
    "        d[i]+=1\n",
    "print(d)\n",
    "\n",
    "min=len(st)\n",
    "ch=None\n",
    "u=[]\n",
    "for i in d:\n",
    "    if min > d[i]:\n",
    "        min=d[i]\n",
    "        ch=i\n",
    "    elif min==d[i]:\n",
    "        u+=[[i,d[i]]]\n",
    "u+=[[ch,min]]\n",
    "print(ch,min)\n",
    "print(len(u))"
   ]
  },
  {
   "cell_type": "code",
   "execution_count": 67,
   "metadata": {},
   "outputs": [
    {
     "name": "stdout",
     "output_type": "stream",
     "text": [
      "olleh\n"
     ]
    }
   ],
   "source": [
    "# wap to reverse the string without slicing\n",
    "n='hello'\n",
    "rev=''\n",
    "for i in n:\n",
    "    rev=i+rev\n",
    "print(rev)\n",
    "\n"
   ]
  },
  {
   "cell_type": "code",
   "execution_count": 1,
   "metadata": {},
   "outputs": [
    {
     "name": "stdout",
     "output_type": "stream",
     "text": [
      "paralindrome\n"
     ]
    }
   ],
   "source": [
    "# wap to check the given string is paralindrome or not\n",
    "n='malayalam'\n",
    "rev=''\n",
    "for i in n:\n",
    "    rev=i+rev\n",
    "if n==rev:\n",
    "    print(\"paralindrome\")\n",
    "else:\n",
    "    print(\"not a paralindrome\")"
   ]
  },
  {
   "cell_type": "code",
   "execution_count": 13,
   "metadata": {},
   "outputs": [
    {
     "name": "stdout",
     "output_type": "stream",
     "text": [
      "m\n",
      "mo\n",
      "mob\n",
      "mobi\n",
      "mobil\n",
      "mobile\n",
      "m\n",
      "mo\n",
      "mob\n",
      "mobi\n",
      "mobil\n",
      "mobile\n"
     ]
    }
   ],
   "source": [
    "# wap \n",
    "#n=eval(input(\"enter the char:\"))\n",
    "n=\"mobile\"\n",
    "b=1\n",
    "for i in n:\n",
    "    print(n[0:b])\n",
    "    b+=1\n",
    "\n",
    "#method 2\n",
    "res=''\n",
    "for i in n:\n",
    "    res+=i\n",
    "    print(res)"
   ]
  },
  {
   "cell_type": "code",
   "execution_count": 62,
   "metadata": {},
   "outputs": [
    {
     "name": "stdout",
     "output_type": "stream",
     "text": [
      "h\n",
      "he\n",
      "hel\n",
      "hell\n",
      "hello\n",
      "hellow\n",
      "hellowo\n",
      "hellowor\n",
      "helloworl\n",
      "helloworld\n",
      "\n",
      "e\n",
      "el\n",
      "ell\n",
      "ello\n",
      "ellow\n",
      "ellowo\n",
      "ellowor\n",
      "elloworl\n",
      "elloworld\n",
      "\n",
      "\n",
      "l\n",
      "ll\n",
      "llo\n",
      "llow\n",
      "llowo\n",
      "llowor\n",
      "lloworl\n",
      "lloworld\n",
      "\n",
      "\n",
      "\n",
      "l\n",
      "lo\n",
      "low\n",
      "lowo\n",
      "lowor\n",
      "loworl\n",
      "loworld\n",
      "\n",
      "\n",
      "\n",
      "\n",
      "o\n",
      "ow\n",
      "owo\n",
      "owor\n",
      "oworl\n",
      "oworld\n",
      "\n",
      "\n",
      "\n",
      "\n",
      "\n",
      "w\n",
      "wo\n",
      "wor\n",
      "worl\n",
      "world\n",
      "\n",
      "\n",
      "\n",
      "\n",
      "\n",
      "\n",
      "o\n",
      "or\n",
      "orl\n",
      "orld\n",
      "\n",
      "\n",
      "\n",
      "\n",
      "\n",
      "\n",
      "\n",
      "r\n",
      "rl\n",
      "rld\n",
      "\n",
      "\n",
      "\n",
      "\n",
      "\n",
      "\n",
      "\n",
      "\n",
      "l\n",
      "ld\n",
      "\n",
      "\n",
      "\n",
      "\n",
      "\n",
      "\n",
      "\n",
      "\n",
      "\n",
      "d\n",
      "\n",
      "\n",
      "\n",
      "\n",
      "\n",
      "\n",
      "\n",
      "\n",
      "\n",
      "\n"
     ]
    }
   ],
   "source": [
    "# n=\"mobile\"\n",
    "# c=1\n",
    "# b=1\n",
    "# e=1\n",
    "# f=1\n",
    "# g=1\n",
    "# r=1\n",
    "# count=1\n",
    "# for i in n:\n",
    "#     print(n[0:count])\n",
    "#     count+=1\n",
    "# for j in n:\n",
    "#     print(n[1:c])\n",
    "#     c+=1\n",
    "# for k in n:\n",
    "#     print(n[2:e])\n",
    "#     e+=1\n",
    "# for l in n:\n",
    "#     print(n[3:f])\n",
    "#     f+=1\n",
    "# for m in n:\n",
    "#     print(n[4:g])\n",
    "#     g+=1\n",
    "# for o in n:\n",
    "#     print(n[5:r])\n",
    "#     r+=1\n",
    "\n",
    "# Method 2\n",
    "n=eval(input(\"enter the str:\"))\n",
    "for i in range(0,len(n)+1):\n",
    "    for j in range(1,len(n)+1):\n",
    "        print(n[i:j])"
   ]
  },
  {
   "cell_type": "code",
   "execution_count": null,
   "metadata": {},
   "outputs": [],
   "source": [
    "# Range function: It is a pre-defined function as well as pre-defined datatype. \n",
    "#                 It is used to generate the sequence of integer values based on user inputs.\n",
    "#                 It will accept 3 integer inputs(arguments)\n",
    "#                 1) Starting value    2) Ending value     3)Step or update value\n",
    "# Note:           whenever user is assgning the value user follows the condition is starting index less than ending index. \n",
    "#                 It generate the sequence of values all the values are stored inside the range collection. & it returns range collection address\n",
    "#                 It is classified into two types:   1)Positive range   2)Negative range\n",
    "# Positive range: range(SI,EI,+UP)\n",
    "#                       SI<EI\n",
    "# Negative range: range(SI,EI,-UP)\n",
    "#                       SI>EI"
   ]
  },
  {
   "cell_type": "code",
   "execution_count": 63,
   "metadata": {},
   "outputs": [
    {
     "name": "stdout",
     "output_type": "stream",
     "text": [
      "-1\n",
      "0\n",
      "1\n",
      "2\n",
      "3\n",
      "4\n",
      "5\n",
      "6\n",
      "7\n",
      "8\n",
      "9\n"
     ]
    }
   ],
   "source": [
    "# Examples for Range\n",
    "# list(range(1,10))\n",
    "# list(range(0,10,2))\n",
    "# list (range(10))\n",
    "# list(range(-1,-10,2)) (updation value should be negative when we give negative indexing values)\n",
    "for i in range(-1,10,1):\n",
    "    print(i)"
   ]
  },
  {
   "cell_type": "code",
   "execution_count": null,
   "metadata": {},
   "outputs": [],
   "source": [
    "# Default values:\n",
    "#                It starting index value is zero'0' & Updation values is one '1' & ending value is mandatory to be mentioned."
   ]
  },
  {
   "cell_type": "code",
   "execution_count": 50,
   "metadata": {},
   "outputs": [
    {
     "name": "stdout",
     "output_type": "stream",
     "text": [
      "0\n",
      "1\n",
      "2\n",
      "3\n",
      "4\n"
     ]
    }
   ],
   "source": [
    "st='level'\n",
    "# for i in st:\n",
    "#     print(i)\n",
    "# Method 2\n",
    "for i in range(0,len(st)):\n",
    "    print(i)"
   ]
  },
  {
   "cell_type": "code",
   "execution_count": 54,
   "metadata": {},
   "outputs": [
    {
     "name": "stdout",
     "output_type": "stream",
     "text": [
      "\n",
      "l\n",
      "le\n",
      "lev\n",
      "leve\n",
      "level\n",
      "6\n"
     ]
    }
   ],
   "source": [
    "st='level'\n",
    "for i in range(0,len(st)+1):\n",
    "    print(st[0:i])"
   ]
  },
  {
   "cell_type": "code",
   "execution_count": 27,
   "metadata": {},
   "outputs": [
    {
     "name": "stdout",
     "output_type": "stream",
     "text": [
      "['abcdcba', 'bcdcb', 'cdc', 'xyzzyx', 'yzzy', 'zz', '5445', '44']\n",
      "8\n",
      "['abcdcba', 'bcdcb', 'cdc', 'xyzzyx', 'yzzy', '5445']\n",
      "6\n"
     ]
    }
   ],
   "source": [
    "st='abcdcbalifhxyzzyx15445#$5'\n",
    "# O/P: ['abcdcba', 'bcdcb', 'cdc', 'xyzzyx', 'yzzy', 'zz', '5445', '44']\n",
    "\n",
    "l=[]\n",
    "for start in range(0,len(st)):\n",
    "    for end in range(start+1,len(st)+1):\n",
    "        res=st[start:end:1]\n",
    "        if len (res)>1 and res==res[::-1]:\n",
    "            l+=[res] # to store the output in the list\n",
    "print(l)\n",
    "print(len(l))\n",
    "\n",
    "# Method 2\n",
    "# st='abcdcbalifhxyzzyx15445#$5'\n",
    "# O/P: ['abcdcba', 'bcdcb', 'cdc', 'xyzzyx', 'yzzy', 'zz', '5445', '44']\n",
    "\n",
    "l=[]\n",
    "for start in range(0,len(st)):\n",
    "    for end in range(start+1,len(st)+1):\n",
    "        res=''\n",
    "        for i in range(start,end):\n",
    "            res+=st[i]\n",
    "        rev=''\n",
    "        for j in range(0,len(res)):\n",
    "            rev=res[j]+rev\n",
    "        if len(res)>=3 and res==rev:\n",
    "            l+=[res] # to store the output in the list\n",
    "print(l)\n",
    "print(len(l))"
   ]
  },
  {
   "cell_type": "code",
   "execution_count": 19,
   "metadata": {},
   "outputs": [
    {
     "name": "stdout",
     "output_type": "stream",
     "text": [
      "ell\n",
      "ell\n",
      "olleh\n",
      "olleh\n",
      "olleh\n",
      "olleh\n"
     ]
    }
   ],
   "source": [
    "# reverse\n",
    "\n",
    "st='hello'\n",
    "print(st[1:3+1])\n",
    "#\n",
    "res=''\n",
    "for x in range(1,3+1):\n",
    "    res+=st[x]\n",
    "print(res)\n",
    "#\n",
    "s='hello'\n",
    "print(s[-1:-(len(s)+1):-1])\n",
    "\n",
    "#\n",
    "print(s[::-1])\n",
    "3\n",
    "rev=''\n",
    "for y in range(0,len(s)):\n",
    "    rev=s[y]+rev\n",
    "print(rev)\n",
    "#\n",
    "rev=''\n",
    "for y in range(-1,-(len(s)+1),-1):\n",
    "    rev+=st[y]\n",
    "print(rev)"
   ]
  },
  {
   "cell_type": "code",
   "execution_count": 29,
   "metadata": {},
   "outputs": [
    {
     "name": "stdout",
     "output_type": "stream",
     "text": [
      "4 9\n",
      "4 3\n",
      "4 2\n",
      "4 1\n",
      "9 3\n",
      "9 2\n",
      "9 1\n",
      "3 2\n",
      "3 1\n",
      "2 1\n"
     ]
    }
   ],
   "source": [
    "st='49321'\n",
    "count=0\n",
    "for i in range(0,len(st)):\n",
    "    for j in range(i+1,len(st)):\n",
    "        print(int(st[i]),int(st[j]))"
   ]
  },
  {
   "cell_type": "code",
   "execution_count": 33,
   "metadata": {},
   "outputs": [
    {
     "name": "stdout",
     "output_type": "stream",
     "text": [
      "2\n"
     ]
    }
   ],
   "source": [
    "st='49321'\n",
    "count=0\n",
    "for i in range(0,len(st)):\n",
    "    for j in range(i+1,len(st)):\n",
    "        if int(st[i])+int(st[j])==5:\n",
    "            count+=1\n",
    "print(count)"
   ]
  },
  {
   "cell_type": "code",
   "execution_count": 37,
   "metadata": {},
   "outputs": [
    {
     "name": "stdout",
     "output_type": "stream",
     "text": [
      "('4', '1') 5\n",
      "('3', '2') 5\n",
      "2\n"
     ]
    }
   ],
   "source": [
    "from itertools import combinations\n",
    "st='49321'\n",
    "\n",
    "count=0\n",
    "for k in range(2,len(st)):\n",
    "    for i in list(combinations(st,k)):\n",
    "        sum1=0\n",
    "        for j in i:\n",
    "            sum1+=int(j)\n",
    "        if sum1==5:\n",
    "            count+=1\n",
    "            print(i,sum1)\n",
    "print(count)"
   ]
  },
  {
   "cell_type": "code",
   "execution_count": 2,
   "metadata": {},
   "outputs": [
    {
     "name": "stdout",
     "output_type": "stream",
     "text": [
      "7 11\n"
     ]
    }
   ],
   "source": [
    "#method 1\n",
    "st='python is a programming'\n",
    "s='is a'\n",
    "for i in range(0,len(st)):\n",
    "    for j in range(1,len(st)+1):\n",
    "        if s==st[i:j]:\n",
    "            print(i,j)"
   ]
  },
  {
   "cell_type": "code",
   "execution_count": 18,
   "metadata": {},
   "outputs": [
    {
     "name": "stdout",
     "output_type": "stream",
     "text": [
      "string is not available\n"
     ]
    }
   ],
   "source": [
    "#method 2 \n",
    "st='laptop'\n",
    "s='ap'\n",
    "if s in st:\n",
    "    for i in range(0,len(st)):\n",
    "        if st[i:i+len(s)]==s:\n",
    "            print(i,i+len(s))\n",
    "else:\n",
    "    print(\"string is not available\")"
   ]
  },
  {
   "cell_type": "code",
   "execution_count": 1,
   "metadata": {},
   "outputs": [
    {
     "name": "stdout",
     "output_type": "stream",
     "text": [
      "46\n"
     ]
    }
   ],
   "source": [
    "st='abc326cde125efg'\n",
    "res=0\n",
    "sum=0\n",
    "mul=1\n",
    "for i in st:\n",
    "    if '0'<=i<='9':\n",
    "        mul*=int(i)\n",
    "        res=mul\n",
    "    else:\n",
    "        if res>0:\n",
    "            sum+=res\n",
    "            res=0\n",
    "            mul=1\n",
    "print(sum)"
   ]
  },
  {
   "cell_type": "code",
   "execution_count": 40,
   "metadata": {},
   "outputs": [
    {
     "ename": "TypeError",
     "evalue": "'int' object is not subscriptable",
     "output_type": "error",
     "traceback": [
      "\u001b[1;31m---------------------------------------------------------------------------\u001b[0m",
      "\u001b[1;31mTypeError\u001b[0m                                 Traceback (most recent call last)",
      "\u001b[1;32mc:\\Users\\Singoji Saiteja\\OneDrive\\Desktop\\python\\python\\nestedif.ipynb Cell 32\u001b[0m line \u001b[0;36m5\n\u001b[0;32m      <a href='vscode-notebook-cell:/c%3A/Users/Singoji%20Saiteja/OneDrive/Desktop/python/python/nestedif.ipynb#X43sZmlsZQ%3D%3D?line=2'>3</a>\u001b[0m a\u001b[39m=\u001b[39m\u001b[39m'\u001b[39m\u001b[39mhwfdngfdymhjd\u001b[39m\u001b[39m'\u001b[39m\n\u001b[0;32m      <a href='vscode-notebook-cell:/c%3A/Users/Singoji%20Saiteja/OneDrive/Desktop/python/python/nestedif.ipynb#X43sZmlsZQ%3D%3D?line=3'>4</a>\u001b[0m \u001b[39mfor\u001b[39;00m i \u001b[39min\u001b[39;00m \u001b[39mrange\u001b[39m(\u001b[39mlen\u001b[39m(a)):\n\u001b[1;32m----> <a href='vscode-notebook-cell:/c%3A/Users/Singoji%20Saiteja/OneDrive/Desktop/python/python/nestedif.ipynb#X43sZmlsZQ%3D%3D?line=4'>5</a>\u001b[0m     res\u001b[39m=\u001b[39mi[m:n]\n\u001b[0;32m      <a href='vscode-notebook-cell:/c%3A/Users/Singoji%20Saiteja/OneDrive/Desktop/python/python/nestedif.ipynb#X43sZmlsZQ%3D%3D?line=5'>6</a>\u001b[0m     \u001b[39mprint\u001b[39m(a)\n",
      "\u001b[1;31mTypeError\u001b[0m: 'int' object is not subscriptable"
     ]
    }
   ],
   "source": [
    "#wap to print all the items present in the string between the range from m to n\n",
    "\n",
    "a='hwfdngfdymhjd'\n",
    "for i in range(len(a)):\n",
    "    \n",
    "    print(a)"
   ]
  },
  {
   "cell_type": "code",
   "execution_count": 1,
   "metadata": {},
   "outputs": [
    {
     "ename": "NameError",
     "evalue": "name 'Even' is not defined",
     "output_type": "error",
     "traceback": [
      "\u001b[1;31m---------------------------------------------------------------------------\u001b[0m",
      "\u001b[1;31mNameError\u001b[0m                                 Traceback (most recent call last)",
      "\u001b[1;32mc:\\Users\\Singoji Saiteja\\OneDrive\\Desktop\\python\\python\\nestedif.ipynb Cell 33\u001b[0m line \u001b[0;36m3\n\u001b[0;32m      <a href='vscode-notebook-cell:/c%3A/Users/Singoji%20Saiteja/OneDrive/Desktop/python/python/nestedif.ipynb#X45sZmlsZQ%3D%3D?line=0'>1</a>\u001b[0m n\u001b[39m=\u001b[39m\u001b[39m24\u001b[39m\n\u001b[0;32m      <a href='vscode-notebook-cell:/c%3A/Users/Singoji%20Saiteja/OneDrive/Desktop/python/python/nestedif.ipynb#X45sZmlsZQ%3D%3D?line=1'>2</a>\u001b[0m \u001b[39mif\u001b[39;00m n\u001b[39m%\u001b[39m\u001b[39m2\u001b[39m\u001b[39m==\u001b[39m\u001b[39m0\u001b[39m:\n\u001b[1;32m----> <a href='vscode-notebook-cell:/c%3A/Users/Singoji%20Saiteja/OneDrive/Desktop/python/python/nestedif.ipynb#X45sZmlsZQ%3D%3D?line=2'>3</a>\u001b[0m     \u001b[39mprint\u001b[39m(Even)\n",
      "\u001b[1;31mNameError\u001b[0m: name 'Even' is not defined"
     ]
    }
   ],
   "source": [
    "n=24\n",
    "if n%2==0:\n",
    "    print(Even)"
   ]
  },
  {
   "cell_type": "code",
   "execution_count": null,
   "metadata": {},
   "outputs": [],
   "source": [
    "# wap to print the uppercase characters in a given string\n",
    "\n",
    "n='NikHilChaRi'\n",
    "for i in a."
   ]
  }
 ],
 "metadata": {
  "kernelspec": {
   "display_name": "Python 3",
   "language": "python",
   "name": "python3"
  },
  "language_info": {
   "codemirror_mode": {
    "name": "ipython",
    "version": 3
   },
   "file_extension": ".py",
   "mimetype": "text/x-python",
   "name": "python",
   "nbconvert_exporter": "python",
   "pygments_lexer": "ipython3",
   "version": "3.11.4"
  },
  "orig_nbformat": 4
 },
 "nbformat": 4,
 "nbformat_minor": 2
}
