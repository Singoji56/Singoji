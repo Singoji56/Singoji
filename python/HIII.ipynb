{
 "cells": [
  {
   "cell_type": "code",
   "execution_count": 3,
   "metadata": {},
   "outputs": [
    {
     "name": "stdout",
     "output_type": "stream",
     "text": [
      "hello\n"
     ]
    }
   ],
   "source": [
    "n=2\n",
    "if(n%2==0):\n",
    "    print('hello')"
   ]
  },
  {
   "cell_type": "code",
   "execution_count": 1,
   "metadata": {},
   "outputs": [
    {
     "name": "stdout",
     "output_type": "stream",
     "text": [
      "pple\n"
     ]
    }
   ],
   "source": [
    "n=eval(input(\"enter a string\"))\n",
    "if(type(n)==str and n[0] in 'AEIOUaeiou'):\n",
    "    n=n[1::]\n",
    "    print(n)"
   ]
  },
  {
   "cell_type": "code",
   "execution_count": 2,
   "metadata": {},
   "outputs": [
    {
     "name": "stdout",
     "output_type": "stream",
     "text": [
      "pple\n"
     ]
    }
   ],
   "source": [
    "n=eval(input(\"enter a string\"))\n",
    "if(type(n)==str and n[0] in 'AEIOUaeiou'):\n",
    "    n=n[1::]\n",
    "    print(n)"
   ]
  },
  {
   "cell_type": "code",
   "execution_count": 4,
   "metadata": {},
   "outputs": [
    {
     "name": "stdout",
     "output_type": "stream",
     "text": [
      "pple\n"
     ]
    }
   ],
   "source": [
    "n=eval(input(\"enter a string\"))\n",
    "if(type(n)==str and n[0] in 'AEIOUaeiou'):\n",
    "    n=n[1::]\n",
    "    print(n)"
   ]
  },
  {
   "cell_type": "code",
   "execution_count": 5,
   "metadata": {},
   "outputs": [],
   "source": []
  },
  {
   "cell_type": "code",
   "execution_count": 7,
   "metadata": {},
   "outputs": [
    {
     "name": "stdout",
     "output_type": "stream",
     "text": [
      "sai\n"
     ]
    }
   ],
   "source": [
    "n=eval(input(\"enter a string\"))\n",
    "if(type(n)==str and n[0] in 'AEIOUaeiou'):\n",
    "    n=n[1::]\n",
    "    print(n)\n",
    "else:\n",
    "    print(n)"
   ]
  },
  {
   "cell_type": "code",
   "execution_count": 8,
   "metadata": {},
   "outputs": [
    {
     "name": "stdout",
     "output_type": "stream",
     "text": [
      "576\n"
     ]
    }
   ],
   "source": [
    "n=eval(input(\"enter the value\"))\n",
    "if (type(n)==int and n%2==0):\n",
    "    print(n**2)\n",
    "else:\n",
    "    print(n**3)"
   ]
  },
  {
   "cell_type": "code",
   "execution_count": 9,
   "metadata": {},
   "outputs": [
    {
     "name": "stdout",
     "output_type": "stream",
     "text": [
      "4\n"
     ]
    }
   ],
   "source": [
    "#write a program to check the given value is even  or odd, it is even to extract the last digit and\n",
    "#display or else to eliminate last digit & display remaining digits\n",
    "n=eval(input(\"enter the values\"))\n",
    "if (type(n)==int and n%2==0):  #type(n) not needed\n",
    "    n=str(n) #res=n%10 (n%10 last digit)\n",
    "    res=n[-1]  #print(res)\n",
    "    print(res)\n",
    "else:\n",
    "    n=str(n)   #res=n//10\n",
    "    res=n[:len(n)-1] # print(res)\n",
    "    print(res)"
   ]
  },
  {
   "cell_type": "code",
   "execution_count": 11,
   "metadata": {},
   "outputs": [
    {
     "name": "stdout",
     "output_type": "stream",
     "text": [
      "2\n"
     ]
    }
   ],
   "source": [
    "n=24\n",
    "if n%5==0 and n%8:\n",
    "    m=n>>3\n",
    "    print(m)\n",
    "else:\n",
    "    m=n//10\n",
    "    print(m)"
   ]
  },
  {
   "cell_type": "code",
   "execution_count": 16,
   "metadata": {},
   "outputs": [
    {
     "name": "stdout",
     "output_type": "stream",
     "text": [
      "3\n"
     ]
    }
   ],
   "source": [
    "n=38548\n",
    "if n%5==0 and n%8:\n",
    "    m=n>>3\n",
    "    print(m)\n",
    "else:\n",
    "    n=str(n)\n",
    "    m=n[0]\n",
    "    print(m)"
   ]
  },
  {
   "cell_type": "code",
   "execution_count": 18,
   "metadata": {},
   "outputs": [
    {
     "name": "stdout",
     "output_type": "stream",
     "text": [
      "gnirts\n"
     ]
    }
   ],
   "source": [
    "n=eval(input(\"enter a value: \"))\n",
    "if(type(n) in (int,float,complex,bytes,bool,type(None))):\n",
    "    res=n*3\n",
    "    print(res)\n",
    "else:\n",
    "    res=str(n)\n",
    "    res=res[::-1]\n",
    "    print(res)"
   ]
  },
  {
   "cell_type": "code",
   "execution_count": 21,
   "metadata": {},
   "outputs": [
    {
     "name": "stdout",
     "output_type": "stream",
     "text": [
      "{35: '#'}\n"
     ]
    }
   ],
   "source": [
    "b={2,3,4}\n",
    "c={}\n",
    "n=eval(input(\"enter the value: \"))\n",
    "if(type(n)==str and len(n)==1 and 'A'<=n<='Z' and 'a'<=n<='z'):\n",
    "    b|={n}\n",
    "    print(b)\n",
    "else:\n",
    "    a=ord(n)\n",
    "    c[a]=n\n",
    "    print(c)\n",
    "    "
   ]
  },
  {
   "cell_type": "code",
   "execution_count": null,
   "metadata": {},
   "outputs": [],
   "source": []
  },
  {
   "cell_type": "code",
   "execution_count": 42,
   "metadata": {},
   "outputs": [
    {
     "name": "stdout",
     "output_type": "stream",
     "text": [
      "[1, 2, 8, 3, 4]\n"
     ]
    }
   ],
   "source": [
    "b=eval(input(\"enter a list: \"))\n",
    "n=eval(input(\"enter a value: \"))\n",
    "if(n in b):\n",
    "    res=b[:len(b)//2:]\n",
    "    print(res)\n",
    "else:\n",
    "    b[len(b)//2:len(b)//2]=[n]\n",
    "    print(b)"
   ]
  },
  {
   "cell_type": "code",
   "execution_count": 44,
   "metadata": {},
   "outputs": [
    {
     "name": "stdout",
     "output_type": "stream",
     "text": [
      "greatest number is  6\n"
     ]
    }
   ],
   "source": [
    "n=eval(input(\"enter a value: \"))\n",
    "b=eval(input(\"enter a value: \"))\n",
    "if(n>b):\n",
    "    print(\"greatest number is \",n)\n",
    "else:\n",
    "    print(\"greatest number is \",b)"
   ]
  },
  {
   "cell_type": "code",
   "execution_count": 54,
   "metadata": {},
   "outputs": [
    {
     "name": "stdout",
     "output_type": "stream",
     "text": [
      "bd\n"
     ]
    }
   ],
   "source": [
    "n=eval(input(\"enter a string: \"))\n",
    "if(ord(n[0])<ord(n[len(n)//2])):\n",
    "    res=n[len(n)//2]+n[1:len(n)//2:]+n[0]+n[len(n)//2+1::]\n",
    "    print(res)\n",
    "else:\n",
    "    res=n[1:len(n)//2]+n[len(n)//2+1:-1:]\n",
    "    print(res)"
   ]
  },
  {
   "cell_type": "code",
   "execution_count": 64,
   "metadata": {},
   "outputs": [
    {
     "name": "stdout",
     "output_type": "stream",
     "text": [
      "[1, [1, 2, 3, 4], 4]\n"
     ]
    }
   ],
   "source": [
    "n=eval(input(\"enter a list: \"))\n",
    "b=eval(input(\"enter a value :\"))\n",
    "if(b in n and type(n[0])==type(n[-1])):\n",
    "    res=n[1:-1]\n",
    "    print(res)\n",
    "else:\n",
    "    res=[n[0],n,n[-1]]\n",
    "    #n[len(n):len(n)]=n[-1]\n",
    "\n",
    "    print(res)"
   ]
  },
  {
   "cell_type": "code",
   "execution_count": null,
   "metadata": {},
   "outputs": [],
   "source": [
    "n=eval(input(\"enter a list: \"))\n",
    "b=eval(input(\"enter a value :\"))\n",
    "if(b in n and type(n[0])==type(n[-1])):\n",
    "    res=n[1:-1]\n",
    "    print(res)\n",
    "else:\n",
    "    res=[n[0],n,n[-1]]\n",
    "    #n[len(n):len(n)]=n[-1]\n",
    "\n",
    "    print(res)"
   ]
  }
 ],
 "metadata": {
  "kernelspec": {
   "display_name": "Python 3",
   "language": "python",
   "name": "python3"
  },
  "language_info": {
   "codemirror_mode": {
    "name": "ipython",
    "version": 3
   },
   "file_extension": ".py",
   "mimetype": "text/x-python",
   "name": "python",
   "nbconvert_exporter": "python",
   "pygments_lexer": "ipython3",
   "version": "3.11.4"
  },
  "orig_nbformat": 4
 },
 "nbformat": 4,
 "nbformat_minor": 2
}
